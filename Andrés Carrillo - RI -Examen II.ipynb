{
 "cells": [
  {
   "cell_type": "markdown",
   "id": "b57c8274",
   "metadata": {},
   "source": [
    "# Nombre: Andrés Carrillo"
   ]
  },
  {
   "cell_type": "markdown",
   "id": "73912381",
   "metadata": {},
   "source": [
    "## Desarrollo"
   ]
  },
  {
   "cell_type": "markdown",
   "id": "099f78c1",
   "metadata": {},
   "source": [
    "1. Preprocesamiento"
   ]
  },
  {
   "cell_type": "code",
   "execution_count": 4,
   "id": "33cefb73",
   "metadata": {},
   "outputs": [
    {
     "name": "stdout",
     "output_type": "stream",
     "text": [
      "Defaulting to user installation because normal site-packages is not writeable\n",
      "Collecting nltk\n",
      "  Using cached nltk-3.9.1-py3-none-any.whl.metadata (2.9 kB)\n",
      "Collecting click (from nltk)\n",
      "  Using cached click-8.2.1-py3-none-any.whl.metadata (2.5 kB)\n",
      "Requirement already satisfied: joblib in c:\\users\\andre\\appdata\\roaming\\python\\python312\\site-packages (from nltk) (1.5.1)\n",
      "Requirement already satisfied: regex>=2021.8.3 in c:\\users\\andre\\appdata\\roaming\\python\\python312\\site-packages (from nltk) (2024.11.6)\n",
      "Requirement already satisfied: tqdm in c:\\users\\andre\\appdata\\roaming\\python\\python312\\site-packages (from nltk) (4.67.1)\n",
      "Requirement already satisfied: colorama in c:\\users\\andre\\appdata\\roaming\\python\\python312\\site-packages (from click->nltk) (0.4.6)\n",
      "Using cached nltk-3.9.1-py3-none-any.whl (1.5 MB)\n",
      "Using cached click-8.2.1-py3-none-any.whl (102 kB)\n",
      "Installing collected packages: click, nltk\n",
      "Successfully installed click-8.2.1 nltk-3.9.1\n"
     ]
    },
    {
     "name": "stderr",
     "output_type": "stream",
     "text": [
      "\n",
      "[notice] A new release of pip is available: 24.3.1 -> 25.1.1\n",
      "[notice] To update, run: python.exe -m pip install --upgrade pip\n"
     ]
    }
   ],
   "source": [
    "!pip install nltk"
   ]
  },
  {
   "cell_type": "code",
   "execution_count": 5,
   "id": "01f994dc",
   "metadata": {},
   "outputs": [
    {
     "name": "stderr",
     "output_type": "stream",
     "text": [
      "[nltk_data] Downloading package punkt to\n",
      "[nltk_data]     C:\\Users\\andre\\AppData\\Roaming\\nltk_data...\n",
      "[nltk_data]   Package punkt is already up-to-date!\n",
      "[nltk_data] Downloading package stopwords to\n",
      "[nltk_data]     C:\\Users\\andre\\AppData\\Roaming\\nltk_data...\n",
      "[nltk_data]   Package stopwords is already up-to-date!\n"
     ]
    }
   ],
   "source": [
    "import pandas as pd\n",
    "import json\n",
    "import re\n",
    "import string\n",
    "import nltk\n",
    "nltk.download('punkt')\n",
    "nltk.download('stopwords')\n",
    "from nltk.corpus import stopwords\n",
    "from nltk.tokenize import word_tokenize\n",
    "from tqdm import tqdm"
   ]
  },
  {
   "cell_type": "code",
   "execution_count": null,
   "id": "f79f61ec",
   "metadata": {},
   "outputs": [
    {
     "name": "stderr",
     "output_type": "stream",
     "text": [
      "100%|██████████| 17000/17000 [00:06<00:00, 2501.49it/s]\n"
     ]
    }
   ],
   "source": [
    "with open('arxiv-metadata-oai-snapshot.json', 'r') as f:\n",
    "    lines = [json.loads(line) for _, line in zip(range(int(0.01 * 1700000)), f)]\n",
    "\n",
    "df = pd.DataFrame(lines)\n",
    "df = df[['id', 'title', 'abstract', 'authors', 'categories', 'update_date']]\n",
    "\n",
    "# Preprocesamiento\n",
    "stop_words = set(stopwords.words('english'))\n",
    "def preprocess(text):\n",
    "    text = text.lower()\n",
    "    text = re.sub(f'[{re.escape(string.punctuation)}]', '', text)\n",
    "    tokens = word_tokenize(text)\n",
    "    tokens = [t for t in tokens if t not in stop_words]\n",
    "    return ' '.join(tokens)\n",
    "\n",
    "tqdm.pandas()\n",
    "df['text'] = (df['title'] + ' ' + df['abstract']).progress_apply(preprocess)"
   ]
  },
  {
   "cell_type": "code",
   "execution_count": 14,
   "id": "e4f1c472",
   "metadata": {},
   "outputs": [
    {
     "data": {
      "text/html": [
       "<div>\n",
       "<style scoped>\n",
       "    .dataframe tbody tr th:only-of-type {\n",
       "        vertical-align: middle;\n",
       "    }\n",
       "\n",
       "    .dataframe tbody tr th {\n",
       "        vertical-align: top;\n",
       "    }\n",
       "\n",
       "    .dataframe thead th {\n",
       "        text-align: right;\n",
       "    }\n",
       "</style>\n",
       "<table border=\"1\" class=\"dataframe\">\n",
       "  <thead>\n",
       "    <tr style=\"text-align: right;\">\n",
       "      <th></th>\n",
       "      <th>id</th>\n",
       "      <th>title</th>\n",
       "      <th>abstract</th>\n",
       "      <th>authors</th>\n",
       "      <th>categories</th>\n",
       "      <th>update_date</th>\n",
       "      <th>text</th>\n",
       "    </tr>\n",
       "  </thead>\n",
       "  <tbody>\n",
       "    <tr>\n",
       "      <th>0</th>\n",
       "      <td>0704.0001</td>\n",
       "      <td>Calculation of prompt diphoton production cros...</td>\n",
       "      <td>A fully differential calculation in perturba...</td>\n",
       "      <td>C. Bal\\'azs, E. L. Berger, P. M. Nadolsky, C.-...</td>\n",
       "      <td>hep-ph</td>\n",
       "      <td>2008-11-26</td>\n",
       "      <td>calculation prompt diphoton production cross s...</td>\n",
       "    </tr>\n",
       "    <tr>\n",
       "      <th>1</th>\n",
       "      <td>0704.0002</td>\n",
       "      <td>Sparsity-certifying Graph Decompositions</td>\n",
       "      <td>We describe a new algorithm, the $(k,\\ell)$-...</td>\n",
       "      <td>Ileana Streinu and Louis Theran</td>\n",
       "      <td>math.CO cs.CG</td>\n",
       "      <td>2008-12-13</td>\n",
       "      <td>sparsitycertifying graph decompositions descri...</td>\n",
       "    </tr>\n",
       "    <tr>\n",
       "      <th>2</th>\n",
       "      <td>0704.0003</td>\n",
       "      <td>The evolution of the Earth-Moon system based o...</td>\n",
       "      <td>The evolution of Earth-Moon system is descri...</td>\n",
       "      <td>Hongjun Pan</td>\n",
       "      <td>physics.gen-ph</td>\n",
       "      <td>2008-01-13</td>\n",
       "      <td>evolution earthmoon system based dark matter f...</td>\n",
       "    </tr>\n",
       "    <tr>\n",
       "      <th>3</th>\n",
       "      <td>0704.0004</td>\n",
       "      <td>A determinant of Stirling cycle numbers counts...</td>\n",
       "      <td>We show that a determinant of Stirling cycle...</td>\n",
       "      <td>David Callan</td>\n",
       "      <td>math.CO</td>\n",
       "      <td>2007-05-23</td>\n",
       "      <td>determinant stirling cycle numbers counts unla...</td>\n",
       "    </tr>\n",
       "    <tr>\n",
       "      <th>4</th>\n",
       "      <td>0704.0005</td>\n",
       "      <td>From dyadic $\\Lambda_{\\alpha}$ to $\\Lambda_{\\a...</td>\n",
       "      <td>In this paper we show how to compute the $\\L...</td>\n",
       "      <td>Wael Abu-Shammala and Alberto Torchinsky</td>\n",
       "      <td>math.CA math.FA</td>\n",
       "      <td>2013-10-15</td>\n",
       "      <td>dyadic lambdaalpha lambdaalpha paper show comp...</td>\n",
       "    </tr>\n",
       "    <tr>\n",
       "      <th>...</th>\n",
       "      <td>...</td>\n",
       "      <td>...</td>\n",
       "      <td>...</td>\n",
       "      <td>...</td>\n",
       "      <td>...</td>\n",
       "      <td>...</td>\n",
       "      <td>...</td>\n",
       "    </tr>\n",
       "    <tr>\n",
       "      <th>16995</th>\n",
       "      <td>0707.3825</td>\n",
       "      <td>Emergence of noncollinear magnetic ordering in...</td>\n",
       "      <td>Using first-principles density functional ca...</td>\n",
       "      <td>Mukul Kabir, D. G. Kanhere and Abhijit Mookerjee</td>\n",
       "      <td>physics.atm-clus</td>\n",
       "      <td>2009-11-13</td>\n",
       "      <td>emergence noncollinear magnetic ordering small...</td>\n",
       "    </tr>\n",
       "    <tr>\n",
       "      <th>16996</th>\n",
       "      <td>0707.3826</td>\n",
       "      <td>More hilltop inflation models</td>\n",
       "      <td>Using analytic expressions, we explore the p...</td>\n",
       "      <td>Kazunori Kohri, Chia-Min Lin, David H. Lyth</td>\n",
       "      <td>hep-ph astro-ph hep-th</td>\n",
       "      <td>2008-11-26</td>\n",
       "      <td>hilltop inflation models using analytic expres...</td>\n",
       "    </tr>\n",
       "    <tr>\n",
       "      <th>16997</th>\n",
       "      <td>0707.3827</td>\n",
       "      <td>Engineering Silicon Nanocrystals: Theoretical ...</td>\n",
       "      <td>We show that the optical and electronic prop...</td>\n",
       "      <td>Federico Iori, Elena Degoli, Rita Magri, Ivan ...</td>\n",
       "      <td>cond-mat.other cond-mat.mtrl-sci</td>\n",
       "      <td>2009-11-13</td>\n",
       "      <td>engineering silicon nanocrystals theoretical s...</td>\n",
       "    </tr>\n",
       "    <tr>\n",
       "      <th>16998</th>\n",
       "      <td>0707.3828</td>\n",
       "      <td>Structure, bonding and magnetism in cobalt clu...</td>\n",
       "      <td>The structural, electronic and magnetic prop...</td>\n",
       "      <td>S. Datta, M. Kabir, S. Ganguly, B. Sanyal, T. ...</td>\n",
       "      <td>physics.atm-clus</td>\n",
       "      <td>2015-05-13</td>\n",
       "      <td>structure bonding magnetism cobalt clusters st...</td>\n",
       "    </tr>\n",
       "    <tr>\n",
       "      <th>16999</th>\n",
       "      <td>0707.3829</td>\n",
       "      <td>Occupation Statistics of Critical Branching Ra...</td>\n",
       "      <td>Consider a critical nearest neighbor branchi...</td>\n",
       "      <td>Steven Lalley, Xinghua Zheng</td>\n",
       "      <td>math.PR</td>\n",
       "      <td>2010-04-08</td>\n",
       "      <td>occupation statistics critical branching rando...</td>\n",
       "    </tr>\n",
       "  </tbody>\n",
       "</table>\n",
       "<p>17000 rows × 7 columns</p>\n",
       "</div>"
      ],
      "text/plain": [
       "              id                                              title  \\\n",
       "0      0704.0001  Calculation of prompt diphoton production cros...   \n",
       "1      0704.0002           Sparsity-certifying Graph Decompositions   \n",
       "2      0704.0003  The evolution of the Earth-Moon system based o...   \n",
       "3      0704.0004  A determinant of Stirling cycle numbers counts...   \n",
       "4      0704.0005  From dyadic $\\Lambda_{\\alpha}$ to $\\Lambda_{\\a...   \n",
       "...          ...                                                ...   \n",
       "16995  0707.3825  Emergence of noncollinear magnetic ordering in...   \n",
       "16996  0707.3826                      More hilltop inflation models   \n",
       "16997  0707.3827  Engineering Silicon Nanocrystals: Theoretical ...   \n",
       "16998  0707.3828  Structure, bonding and magnetism in cobalt clu...   \n",
       "16999  0707.3829  Occupation Statistics of Critical Branching Ra...   \n",
       "\n",
       "                                                abstract  \\\n",
       "0        A fully differential calculation in perturba...   \n",
       "1        We describe a new algorithm, the $(k,\\ell)$-...   \n",
       "2        The evolution of Earth-Moon system is descri...   \n",
       "3        We show that a determinant of Stirling cycle...   \n",
       "4        In this paper we show how to compute the $\\L...   \n",
       "...                                                  ...   \n",
       "16995    Using first-principles density functional ca...   \n",
       "16996    Using analytic expressions, we explore the p...   \n",
       "16997    We show that the optical and electronic prop...   \n",
       "16998    The structural, electronic and magnetic prop...   \n",
       "16999    Consider a critical nearest neighbor branchi...   \n",
       "\n",
       "                                                 authors  \\\n",
       "0      C. Bal\\'azs, E. L. Berger, P. M. Nadolsky, C.-...   \n",
       "1                        Ileana Streinu and Louis Theran   \n",
       "2                                            Hongjun Pan   \n",
       "3                                           David Callan   \n",
       "4               Wael Abu-Shammala and Alberto Torchinsky   \n",
       "...                                                  ...   \n",
       "16995   Mukul Kabir, D. G. Kanhere and Abhijit Mookerjee   \n",
       "16996        Kazunori Kohri, Chia-Min Lin, David H. Lyth   \n",
       "16997  Federico Iori, Elena Degoli, Rita Magri, Ivan ...   \n",
       "16998  S. Datta, M. Kabir, S. Ganguly, B. Sanyal, T. ...   \n",
       "16999                       Steven Lalley, Xinghua Zheng   \n",
       "\n",
       "                             categories update_date  \\\n",
       "0                                hep-ph  2008-11-26   \n",
       "1                         math.CO cs.CG  2008-12-13   \n",
       "2                        physics.gen-ph  2008-01-13   \n",
       "3                               math.CO  2007-05-23   \n",
       "4                       math.CA math.FA  2013-10-15   \n",
       "...                                 ...         ...   \n",
       "16995                  physics.atm-clus  2009-11-13   \n",
       "16996            hep-ph astro-ph hep-th  2008-11-26   \n",
       "16997  cond-mat.other cond-mat.mtrl-sci  2009-11-13   \n",
       "16998                  physics.atm-clus  2015-05-13   \n",
       "16999                           math.PR  2010-04-08   \n",
       "\n",
       "                                                    text  \n",
       "0      calculation prompt diphoton production cross s...  \n",
       "1      sparsitycertifying graph decompositions descri...  \n",
       "2      evolution earthmoon system based dark matter f...  \n",
       "3      determinant stirling cycle numbers counts unla...  \n",
       "4      dyadic lambdaalpha lambdaalpha paper show comp...  \n",
       "...                                                  ...  \n",
       "16995  emergence noncollinear magnetic ordering small...  \n",
       "16996  hilltop inflation models using analytic expres...  \n",
       "16997  engineering silicon nanocrystals theoretical s...  \n",
       "16998  structure bonding magnetism cobalt clusters st...  \n",
       "16999  occupation statistics critical branching rando...  \n",
       "\n",
       "[17000 rows x 7 columns]"
      ]
     },
     "execution_count": 14,
     "metadata": {},
     "output_type": "execute_result"
    }
   ],
   "source": [
    "df"
   ]
  },
  {
   "cell_type": "markdown",
   "id": "615a95b6",
   "metadata": {},
   "source": [
    "2. Indexación"
   ]
  },
  {
   "cell_type": "code",
   "execution_count": 9,
   "id": "7f9c8bdc",
   "metadata": {},
   "outputs": [],
   "source": [
    "from sklearn.feature_extraction.text import TfidfVectorizer\n",
    "\n",
    "tfidf_vectorizer = TfidfVectorizer()\n",
    "tfidf_matrix = tfidf_vectorizer.fit_transform(df['text'])"
   ]
  },
  {
   "cell_type": "code",
   "execution_count": 15,
   "id": "cef1f545",
   "metadata": {},
   "outputs": [
    {
     "data": {
      "text/plain": [
       "<Compressed Sparse Row sparse matrix of dtype 'float64'\n",
       "\twith 983235 stored elements and shape (17000, 71211)>"
      ]
     },
     "execution_count": 15,
     "metadata": {},
     "output_type": "execute_result"
    }
   ],
   "source": [
    "tfidf_matrix"
   ]
  },
  {
   "cell_type": "markdown",
   "id": "a8ad6f30",
   "metadata": {},
   "source": [
    "BM25"
   ]
  },
  {
   "cell_type": "code",
   "execution_count": 11,
   "id": "865f824e",
   "metadata": {},
   "outputs": [
    {
     "name": "stdout",
     "output_type": "stream",
     "text": [
      "Defaulting to user installation because normal site-packages is not writeable\n",
      "Collecting rank_bm25\n",
      "  Using cached rank_bm25-0.2.2-py3-none-any.whl.metadata (3.2 kB)\n",
      "Requirement already satisfied: numpy in c:\\users\\andre\\appdata\\roaming\\python\\python312\\site-packages (from rank_bm25) (2.3.1)\n",
      "Using cached rank_bm25-0.2.2-py3-none-any.whl (8.6 kB)\n",
      "Installing collected packages: rank_bm25\n",
      "Successfully installed rank_bm25-0.2.2\n"
     ]
    },
    {
     "name": "stderr",
     "output_type": "stream",
     "text": [
      "\n",
      "[notice] A new release of pip is available: 24.3.1 -> 25.1.1\n",
      "[notice] To update, run: python.exe -m pip install --upgrade pip\n"
     ]
    }
   ],
   "source": [
    "!pip install rank_bm25"
   ]
  },
  {
   "cell_type": "code",
   "execution_count": 12,
   "id": "4376d7f2",
   "metadata": {},
   "outputs": [],
   "source": [
    "from rank_bm25 import BM25Okapi\n",
    "\n",
    "tokenized_corpus = [doc.split() for doc in df['text']]\n",
    "bm25 = BM25Okapi(tokenized_corpus)"
   ]
  },
  {
   "cell_type": "markdown",
   "id": "b17758fd",
   "metadata": {},
   "source": [
    "Embeddings + FAISS"
   ]
  },
  {
   "cell_type": "code",
   "execution_count": 16,
   "id": "a08424b7",
   "metadata": {},
   "outputs": [],
   "source": [
    "from sentence_transformers import SentenceTransformer\n",
    "import faiss\n",
    "import numpy as np"
   ]
  },
  {
   "cell_type": "code",
   "execution_count": 17,
   "id": "32f220e2",
   "metadata": {},
   "outputs": [],
   "source": [
    "model = SentenceTransformer('all-MiniLM-L6-v2')"
   ]
  },
  {
   "cell_type": "code",
   "execution_count": 19,
   "id": "530993af",
   "metadata": {},
   "outputs": [
    {
     "name": "stdout",
     "output_type": "stream",
     "text": [
      "Defaulting to user installation because normal site-packages is not writeable\n",
      "Requirement already satisfied: sentence-transformers in c:\\users\\andre\\appdata\\roaming\\python\\python312\\site-packages (5.0.0)\n",
      "Requirement already satisfied: faiss-cpu in c:\\users\\andre\\appdata\\roaming\\python\\python312\\site-packages (1.11.0.post1)\n",
      "Requirement already satisfied: numpy in c:\\users\\andre\\appdata\\roaming\\python\\python312\\site-packages (2.3.1)\n",
      "Requirement already satisfied: transformers<5.0.0,>=4.41.0 in c:\\users\\andre\\appdata\\roaming\\python\\python312\\site-packages (from sentence-transformers) (4.53.3)\n",
      "Requirement already satisfied: tqdm in c:\\users\\andre\\appdata\\roaming\\python\\python312\\site-packages (from sentence-transformers) (4.67.1)\n",
      "Requirement already satisfied: torch>=1.11.0 in c:\\users\\andre\\appdata\\roaming\\python\\python312\\site-packages (from sentence-transformers) (2.7.1)\n",
      "Requirement already satisfied: scikit-learn in c:\\users\\andre\\appdata\\roaming\\python\\python312\\site-packages (from sentence-transformers) (1.7.1)\n",
      "Requirement already satisfied: scipy in c:\\users\\andre\\appdata\\roaming\\python\\python312\\site-packages (from sentence-transformers) (1.16.0)\n",
      "Requirement already satisfied: huggingface-hub>=0.20.0 in c:\\users\\andre\\appdata\\roaming\\python\\python312\\site-packages (from sentence-transformers) (0.33.4)\n",
      "Requirement already satisfied: Pillow in c:\\users\\andre\\appdata\\roaming\\python\\python312\\site-packages (from sentence-transformers) (11.3.0)\n",
      "Requirement already satisfied: typing_extensions>=4.5.0 in c:\\users\\andre\\appdata\\roaming\\python\\python312\\site-packages (from sentence-transformers) (4.14.1)\n",
      "Requirement already satisfied: packaging in c:\\users\\andre\\appdata\\roaming\\python\\python312\\site-packages (from faiss-cpu) (25.0)\n",
      "Requirement already satisfied: filelock in c:\\users\\andre\\appdata\\roaming\\python\\python312\\site-packages (from huggingface-hub>=0.20.0->sentence-transformers) (3.18.0)\n",
      "Requirement already satisfied: fsspec>=2023.5.0 in c:\\users\\andre\\appdata\\roaming\\python\\python312\\site-packages (from huggingface-hub>=0.20.0->sentence-transformers) (2025.7.0)\n",
      "Requirement already satisfied: pyyaml>=5.1 in c:\\users\\andre\\appdata\\roaming\\python\\python312\\site-packages (from huggingface-hub>=0.20.0->sentence-transformers) (6.0.2)\n",
      "Requirement already satisfied: requests in c:\\users\\andre\\appdata\\roaming\\python\\python312\\site-packages (from huggingface-hub>=0.20.0->sentence-transformers) (2.32.4)\n",
      "Requirement already satisfied: sympy>=1.13.3 in c:\\users\\andre\\appdata\\roaming\\python\\python312\\site-packages (from torch>=1.11.0->sentence-transformers) (1.14.0)\n",
      "Requirement already satisfied: networkx in c:\\users\\andre\\appdata\\roaming\\python\\python312\\site-packages (from torch>=1.11.0->sentence-transformers) (3.5)\n",
      "Requirement already satisfied: jinja2 in c:\\users\\andre\\appdata\\roaming\\python\\python312\\site-packages (from torch>=1.11.0->sentence-transformers) (3.1.6)\n",
      "Requirement already satisfied: setuptools in c:\\users\\andre\\appdata\\roaming\\python\\python312\\site-packages (from torch>=1.11.0->sentence-transformers) (80.9.0)\n",
      "Requirement already satisfied: colorama in c:\\users\\andre\\appdata\\roaming\\python\\python312\\site-packages (from tqdm->sentence-transformers) (0.4.6)\n",
      "Requirement already satisfied: regex!=2019.12.17 in c:\\users\\andre\\appdata\\roaming\\python\\python312\\site-packages (from transformers<5.0.0,>=4.41.0->sentence-transformers) (2024.11.6)\n",
      "Requirement already satisfied: tokenizers<0.22,>=0.21 in c:\\users\\andre\\appdata\\roaming\\python\\python312\\site-packages (from transformers<5.0.0,>=4.41.0->sentence-transformers) (0.21.2)\n",
      "Requirement already satisfied: safetensors>=0.4.3 in c:\\users\\andre\\appdata\\roaming\\python\\python312\\site-packages (from transformers<5.0.0,>=4.41.0->sentence-transformers) (0.5.3)\n",
      "Requirement already satisfied: joblib>=1.2.0 in c:\\users\\andre\\appdata\\roaming\\python\\python312\\site-packages (from scikit-learn->sentence-transformers) (1.5.1)\n",
      "Requirement already satisfied: threadpoolctl>=3.1.0 in c:\\users\\andre\\appdata\\roaming\\python\\python312\\site-packages (from scikit-learn->sentence-transformers) (3.6.0)\n",
      "Requirement already satisfied: mpmath<1.4,>=1.1.0 in c:\\users\\andre\\appdata\\roaming\\python\\python312\\site-packages (from sympy>=1.13.3->torch>=1.11.0->sentence-transformers) (1.3.0)\n",
      "Requirement already satisfied: MarkupSafe>=2.0 in c:\\users\\andre\\appdata\\roaming\\python\\python312\\site-packages (from jinja2->torch>=1.11.0->sentence-transformers) (3.0.2)\n",
      "Requirement already satisfied: charset_normalizer<4,>=2 in c:\\users\\andre\\appdata\\roaming\\python\\python312\\site-packages (from requests->huggingface-hub>=0.20.0->sentence-transformers) (3.4.2)\n",
      "Requirement already satisfied: idna<4,>=2.5 in c:\\users\\andre\\appdata\\roaming\\python\\python312\\site-packages (from requests->huggingface-hub>=0.20.0->sentence-transformers) (3.10)\n",
      "Requirement already satisfied: urllib3<3,>=1.21.1 in c:\\users\\andre\\appdata\\roaming\\python\\python312\\site-packages (from requests->huggingface-hub>=0.20.0->sentence-transformers) (2.5.0)\n",
      "Requirement already satisfied: certifi>=2017.4.17 in c:\\users\\andre\\appdata\\roaming\\python\\python312\\site-packages (from requests->huggingface-hub>=0.20.0->sentence-transformers) (2025.7.14)\n",
      "Note: you may need to restart the kernel to use updated packages.\n"
     ]
    },
    {
     "name": "stderr",
     "output_type": "stream",
     "text": [
      "\n",
      "[notice] A new release of pip is available: 24.3.1 -> 25.1.1\n",
      "[notice] To update, run: python.exe -m pip install --upgrade pip\n"
     ]
    }
   ],
   "source": [
    "pip install sentence-transformers faiss-cpu numpy"
   ]
  },
  {
   "cell_type": "code",
   "execution_count": 20,
   "id": "7de714d1",
   "metadata": {},
   "outputs": [
    {
     "name": "stderr",
     "output_type": "stream",
     "text": [
      "Batches: 100%|██████████| 532/532 [03:51<00:00,  2.29it/s]\n"
     ]
    }
   ],
   "source": [
    "embeddings = model.encode(df['text'].tolist(), show_progress_bar=True)\n",
    "embeddings = np.array(embeddings).astype('float32')\n",
    "\n",
    "index = faiss.IndexFlatL2(embeddings.shape[1])\n",
    "index.add(embeddings)"
   ]
  },
  {
   "cell_type": "markdown",
   "id": "19d1db69",
   "metadata": {},
   "source": [
    "3. Recuperación"
   ]
  },
  {
   "cell_type": "code",
   "execution_count": 21,
   "id": "9e239523",
   "metadata": {},
   "outputs": [],
   "source": [
    "def search_tfidf(query, top_k=10):\n",
    "    q_vec = tfidf_vectorizer.transform([preprocess(query)])\n",
    "    scores = (tfidf_matrix @ q_vec.T).toarray().ravel()\n",
    "    top_idx = scores.argsort()[-top_k:][::-1]\n",
    "    return df.iloc[top_idx][['id', 'title', 'abstract']]\n",
    "\n",
    "def search_bm25(query, top_k=10):\n",
    "    q_tok = preprocess(query).split()\n",
    "    scores = bm25.get_scores(q_tok)\n",
    "    top_idx = np.argsort(scores)[-top_k:][::-1]\n",
    "    return df.iloc[top_idx][['id', 'title', 'abstract']]\n",
    "\n",
    "def search_faiss(query, top_k=10):\n",
    "    q_emb = model.encode([preprocess(query)]).astype('float32')\n",
    "    D, I = index.search(q_emb, top_k)\n",
    "    return df.iloc[I[0]][['id', 'title', 'abstract']]"
   ]
  },
  {
   "cell_type": "markdown",
   "id": "43b7a793",
   "metadata": {},
   "source": [
    "4. RAG "
   ]
  },
  {
   "cell_type": "code",
   "execution_count": 6,
   "id": "77db6884",
   "metadata": {},
   "outputs": [],
   "source": [
    "import os\n",
    "from langchain.chains import RetrievalQA\n",
    "from langchain_google_genai import ChatGoogleGenerativeAI"
   ]
  },
  {
   "cell_type": "code",
   "execution_count": null,
   "id": "5dd96135",
   "metadata": {},
   "outputs": [],
   "source": [
    "\n",
    "os.environ[\"GOOGLE_API_KEY\"] = \"****\"\n",
    "\n",
    "llm = ChatGoogleGenerativeAI(model=\"models/gemini-1.5-flash\", temperature=0)\n",
    "def rag_answer(query):\n",
    "    docs = search_faiss(query, top_k=3)\n",
    "    context = \"\\n\\n\".join(docs['abstract'].tolist())\n",
    "    prompt = f\"\"\"Contexto:\\n{context}\\n\\nPregunta:\\n{query}\\n\\nResponde en español, resume la información y justifica la relevancia de los documentos.\"\"\"\n",
    "    return llm.invoke(prompt)"
   ]
  },
  {
   "cell_type": "markdown",
   "id": "2ba24e0c",
   "metadata": {},
   "source": [
    "5. Evaluación"
   ]
  },
  {
   "cell_type": "code",
   "execution_count": 24,
   "id": "118010f2",
   "metadata": {},
   "outputs": [],
   "source": [
    "import pandas as pd"
   ]
  },
  {
   "cell_type": "code",
   "execution_count": 25,
   "id": "ad76054b",
   "metadata": {},
   "outputs": [],
   "source": [
    "with open(\"queries.txt\", \"r\", encoding=\"utf-8\") as f:\n",
    "    queries = [line.strip() for line in f if line.strip()]\n",
    "\n",
    "resultados = []"
   ]
  },
  {
   "cell_type": "code",
   "execution_count": 28,
   "id": "6b0a4f74",
   "metadata": {},
   "outputs": [
    {
     "name": "stdout",
     "output_type": "stream",
     "text": [
      "\n",
      "=== Consulta: diphoton production cross sections ===\n",
      "TF-IDF:\n",
      "              id                                              title\n",
      "7806   0705.3804  Exclusive e+e-, Di-photon and Di-jet Productio...\n",
      "0      0704.0001  Calculation of prompt diphoton production cros...\n",
      "15464  0707.2294  Search for a High-Mass Diphoton State and Limi...\n",
      "8315   0705.4313  Projectile Fragmentation of $^{86}$Kr at 64 Me...\n",
      "11499  0706.2813  Measurement of the Total Hadronic Cross Sectio...\n",
      "10803  0706.2117  Novel Master Formula for Twist-3 Soft-Gluon-Po...\n",
      "4351   0705.0349  New isotope 44Si and systematics of the produc...\n",
      "11379  0706.2693  Reaction cross sections for proton scattering ...\n",
      "5053   0705.1051  Quasi-elastic neutrino charged-current scatter...\n",
      "12703  0706.4017  The Role of Gauge Invariance in Single-Spin As...\n",
      "BM25:\n",
      "              id                                              title\n",
      "7806   0705.3804  Exclusive e+e-, Di-photon and Di-jet Productio...\n",
      "0      0704.0001  Calculation of prompt diphoton production cros...\n",
      "8315   0705.4313  Projectile Fragmentation of $^{86}$Kr at 64 Me...\n",
      "4351   0705.0349  New isotope 44Si and systematics of the produc...\n",
      "10803  0706.2117  Novel Master Formula for Twist-3 Soft-Gluon-Po...\n",
      "11499  0706.2813  Measurement of the Total Hadronic Cross Sectio...\n",
      "6433   0705.2431  Higher-order Threshold Corrections for Single ...\n",
      "1984   0704.1985                   Electromagnetic Higgs production\n",
      "9332   0706.0646  Measurement of the complete nuclide production...\n",
      "6746   0705.2744  Distributions for MSSM Higgs boson + jet produ...\n",
      "FAISS:\n",
      "              id                                              title\n",
      "7806   0705.3804  Exclusive e+e-, Di-photon and Di-jet Productio...\n",
      "0      0704.0001  Calculation of prompt diphoton production cros...\n",
      "6746   0705.2744  Distributions for MSSM Higgs boson + jet produ...\n",
      "7886   0705.3884  Inclusive electron spectrum in the region of p...\n",
      "15464  0707.2294  Search for a High-Mass Diphoton State and Limi...\n",
      "15545  0707.2375  Pion Production by Protons on a Thin Beryllium...\n",
      "9537   0706.0851           Electroweak measurements at the Tevatron\n",
      "8315   0705.4313  Projectile Fragmentation of $^{86}$Kr at 64 Me...\n",
      "12712  0706.4026                    Two Pion Production from Nuclei\n",
      "1152   0704.1153  Asymmetric Di-jet Production in Polarized Hadr...\n",
      "Respuesta del RAG:\n",
      "content='Los documentos presentan información sobre las secciones transversales de producción de difotones en colisiones hadrónicas, con énfasis en diferentes aspectos y energías.\\n\\n**Resumen:**\\n\\n* **Documento 1:** Se centra en la observación y medición de la sección transversal de la producción exclusiva de pares e+e- y di-jets en colisiones protón-antiprotón en el Tevatron de Fermilab.  Aunque no se centra directamente en difotones, sienta las bases para entender la producción exclusiva de pares de partículas en colisiones hadrónicas, lo cual es relevante para la producción de difotones.\\n\\n* **Documento 2:** Presenta un cálculo completamente diferencial en QCD perturbativa para la producción de pares de fotones masivos en colisiones hadrónicas. Incluye contribuciones de orden siguiente a líder (NLO) de varios subprocesos y la resumación a todos los órdenes de la radiación gluónica inicial.  Compara los resultados con datos del Tevatron y proporciona predicciones para el LHC, incluyendo una comparación con la producción de difotones a partir de la desintegración de un bosón de Higgs. Este es el documento más relevante para la pregunta, ya que proporciona un cálculo detallado de las secciones transversales de producción de difotones y su comparación con datos experimentales.\\n\\n* **Documento 3:** Se enfoca en la producción del bosón de Higgs más ligero junto con un jet hadrónico de alto pT en el MSSM.  Aunque no trata directamente la producción de difotones *desde procesos QCD*, es relevante indirectamente porque el bosón de Higgs puede decaer en difotones, y este documento contribuye a la comprensión de los procesos de fondo en la búsqueda del Higgs.\\n\\n\\n**Relevancia:**\\n\\nLos tres documentos son relevantes para el estudio de las secciones transversales de producción de difotones porque abordan diferentes aspectos del problema: el primero establece un marco experimental para la producción exclusiva de pares de partículas; el segundo proporciona un cálculo teórico detallado de las secciones transversales de producción de difotones en colisiones hadrónicas, incluyendo comparaciones con datos experimentales y predicciones para el LHC; y el tercero, aunque indirectamente, contribuye a la comprensión de los procesos de fondo en la búsqueda del bosón de Higgs, que puede decaer en difotones.  En conjunto, estos documentos ilustran la complejidad del estudio de la producción de difotones y la necesidad de cálculos teóricos precisos y datos experimentales para una comprensión completa del fenómeno.' additional_kwargs={} response_metadata={'prompt_feedback': {'block_reason': 0, 'safety_ratings': []}, 'finish_reason': 'STOP', 'model_name': 'gemini-1.5-flash', 'safety_ratings': []} id='run--079c23e7-775b-4865-9693-8f340284d100-0'\n",
      "Coincidencias top-10 entre los tres modelos: 3\n",
      "\n",
      "=== Consulta: quantum chromodynamics ===\n",
      "TF-IDF:\n",
      "              id                                              title\n",
      "8358   0705.4356        Monte Carlo Methods in Quantum Field Theory\n",
      "7172   0705.3170  Two interacting GL-equations in High-T$_c$ sup...\n",
      "14235  0707.1065  Connection between some nonperturbative approa...\n",
      "1723   0704.1724  Inhomogeneous color superconductivity and the ...\n",
      "13672  0707.0502  Deflated GMRES for Systems with Multiple Shift...\n",
      "11309  0706.2623           Quantum Dyanmics of Loop Quantum Gravity\n",
      "2246   0704.2247             Chaos and Complexity of quantum motion\n",
      "8195   0705.4193         Lecture notes on Optical Quantum Computing\n",
      "8990   0706.0304  Efficient quantum circuit implementation of qu...\n",
      "8173   0705.4171                            Grover search algorithm\n",
      "BM25:\n",
      "              id                                              title\n",
      "7172   0705.3170  Two interacting GL-equations in High-T$_c$ sup...\n",
      "8358   0705.4356        Monte Carlo Methods in Quantum Field Theory\n",
      "13672  0707.0502  Deflated GMRES for Systems with Multiple Shift...\n",
      "1723   0704.1724  Inhomogeneous color superconductivity and the ...\n",
      "14235  0707.1065  Connection between some nonperturbative approa...\n",
      "8048   0705.4046          Meson-baryon sigma terms in QCD Sum Rules\n",
      "14179  0707.1009  Search for the \\phi-N bound state from \\phi me...\n",
      "14688  0707.1518  Gluino Axion, Neutrino Seesaw, Dynamical Gaugi...\n",
      "6976   0705.2974  A diagrammatic derivation of the meson effecti...\n",
      "5844   0705.1842  Gluon saturation and the Froissart bound: a si...\n",
      "FAISS:\n",
      "              id                                              title\n",
      "8358   0705.4356        Monte Carlo Methods in Quantum Field Theory\n",
      "7172   0705.3170  Two interacting GL-equations in High-T$_c$ sup...\n",
      "14235  0707.1065  Connection between some nonperturbative approa...\n",
      "16709  0707.3539  Introduction to Quantum Mechanics and the Quan...\n",
      "16867  0707.3697  Chromoelectric response functions for quark-gl...\n",
      "6976   0705.2974  A diagrammatic derivation of the meson effecti...\n",
      "12716  0706.4030            On the Pauli principle violation in QFT\n",
      "3213   0704.3214  (2+1)-Dimensional Quantum Gravity as the Conti...\n",
      "9776   0706.1090  Effective Hamiltonian Theory and Its Applicati...\n",
      "6953   0705.2951           Another derivation of Weinberg's formula\n",
      "Respuesta del RAG:\n",
      "content='El documento describe aplicaciones de métodos de integración de Monte Carlo en Cromodinámica Cuántica (QCD).  Se explora la posible conexión entre la superconductividad de alta temperatura crítica (alta-T<sub>c</sub>) y la QCD, basándose en dos ecuaciones de Ginzburg-Landau que interactúan.  En el contexto de la alta-T<sub>c</sub>, estas ecuaciones describen la interacción entre electrones de Cooper y diferentes cuasipartículas (fonones, magnones, excitones, etc.), mientras que en QCD describen dos tipos de condensados de gauge, representando un potencial de gauge de una subálgebra del grupo gauge SU(3) y su cociente. Se encuentran soluciones regulares donde un campo, ψ₁, es desplazado por otro, ψ₂.\\n\\nAdemás, se analiza la conexión entre dos enfoques no perturbativos en QCD: un método de coordenadas colectivas y la separación espín-carga. Se demuestra que ambos enfoques están relacionados por la existencia de dos condensados necesarios para el confinamiento.\\n\\n**Relevancia del documento:**\\n\\nLa relevancia del documento radica en su exploración de la conexión entre la superconductividad de alta-T<sub>c</sub> y la QCD, dos áreas aparentemente dispares de la física.  Esto se logra mediante un modelo matemático basado en ecuaciones de Ginzburg-Landau, ofreciendo una posible analogía entre fenómenos físicos complejos.  Además, la conexión establecida entre dos métodos no perturbativos en QCD,  el método de coordenadas colectivas y la separación espín-carga,  contribuye a una comprensión más profunda de los mecanismos de confinamiento en QCD, un problema fundamental aún no completamente resuelto.  El uso de métodos de integración de Monte Carlo destaca la importancia de las técnicas computacionales en el estudio de problemas no perturbativos en física teórica.  En resumen, el documento presenta un enfoque innovador y relevante para abordar problemas complejos en física de la materia condensada y física de partículas.' additional_kwargs={} response_metadata={'prompt_feedback': {'block_reason': 0, 'safety_ratings': []}, 'finish_reason': 'STOP', 'model_name': 'gemini-1.5-flash', 'safety_ratings': []} id='run--13c67775-4702-4f0d-8e9e-eb6b6f173f0d-0'\n",
      "Coincidencias top-10 entre los tres modelos: 3\n",
      "\n",
      "=== Consulta: higgs boson decay ===\n",
      "TF-IDF:\n",
      "              id                                              title\n",
      "6711   0705.2709  Prospects for the search for Higgs bosons with...\n",
      "14761  0707.1591  Invisibly decaying Higgs boson in the Littlest...\n",
      "1999   0704.2000  Search for a Higgs boson produced in associati...\n",
      "5261   0705.1259  Towards a measurement of the two-photon decay ...\n",
      "13967  0707.0797  Higgs boson plus photon production at the LHC:...\n",
      "437    0704.0438  Broadening the Higgs Boson with Right-Handed N...\n",
      "14063  0707.0893         Unparticle physics and Higgs phenomenology\n",
      "6092   0705.2090  Inclusive Higgs Boson Searches in Four-Lepton ...\n",
      "10584  0706.1898  Search for a Standard Model Higgs Boson in CMS...\n",
      "6192   0705.2190  Experimental Constraints on Higgs Boson Decays...\n",
      "BM25:\n",
      "              id                                              title\n",
      "14761  0707.1591  Invisibly decaying Higgs boson in the Littlest...\n",
      "5261   0705.1259  Towards a measurement of the two-photon decay ...\n",
      "6711   0705.2709  Prospects for the search for Higgs bosons with...\n",
      "437    0704.0438  Broadening the Higgs Boson with Right-Handed N...\n",
      "1999   0704.2000  Search for a Higgs boson produced in associati...\n",
      "13543  0707.0373  Search for invisibly decaying Higgs bosons in ...\n",
      "6092   0705.2090  Inclusive Higgs Boson Searches in Four-Lepton ...\n",
      "13967  0707.0797  Higgs boson plus photon production at the LHC:...\n",
      "10584  0706.1898  Search for a Standard Model Higgs Boson in CMS...\n",
      "839    0704.0840  Associated production of the charged Higgs bos...\n",
      "FAISS:\n",
      "              id                                              title\n",
      "14761  0707.1591  Invisibly decaying Higgs boson in the Littlest...\n",
      "13543  0707.0373  Search for invisibly decaying Higgs bosons in ...\n",
      "6803   0705.2801  The ATLAS discovery potential for MSSM neutral...\n",
      "16322  0707.3152  New Physics Effects in Higgs Decay to Tau Leptons\n",
      "12955  0706.4269  Exploring the Di-Photon Decay of a Light Higgs...\n",
      "5261   0705.1259  Towards a measurement of the two-photon decay ...\n",
      "6331   0705.2329  Search for Neutral Higgs Boson Production in t...\n",
      "13967  0707.0797  Higgs boson plus photon production at the LHC:...\n",
      "13433  0707.0263                       Review of Bu leptonic decays\n",
      "16818  0707.3648                      T-Anomaly Induced LHC Signals\n",
      "Respuesta del RAG:\n",
      "content='Los documentos describen diferentes aspectos de la desintegración del bosón de Higgs, enfocándose en escenarios donde este decae de forma invisible o en canales específicos.\\n\\n**Resumen:**\\n\\n* **Documento 1:**  Se centra en la posibilidad de una desintegración invisible del bosón de Higgs en el modelo Littlest Higgs con T-paridad.  Se muestra que, para ciertos rangos de parámetros, el Higgs podría decaer en un par de fotones pesados (A_H) con una alta probabilidad (hasta 95% para masas intermedias), aumentando significativamente su anchura de desintegración total.\\n\\n* **Documento 2:** Describe una búsqueda experimental del bosón de Higgs que decae de forma invisible (en partículas neutras débilmente interactuantes) en el experimento OPAL en LEP.  No se observa exceso sobre el fondo esperado, estableciéndose un límite inferior en la masa del Higgs (108.2 GeV al 95% de confianza) asumiendo una tasa de desintegración invisible del 100%.  También se buscan desintegraciones casi invisibles.\\n\\n* **Documento 3:**  Se enfoca en la posibilidad de descubrir bosones de Higgs neutros (h/A) en el Modelo Supersimétrico Mínimo (MSSM) en el experimento ATLAS del LHC.  Se estudia el canal de desintegración h/A → μ⁺μ⁻ + 2b-jets para un rango de parámetros (tan β entre 15 y 50, masa entre 95 y 130 GeV) no completamente explorado por experimentos previos.  Se considera también la posible contribución del bosón H a la señal.\\n\\n\\n**Relevancia:**\\n\\nLos tres documentos son relevantes porque abordan diferentes aspectos cruciales en la comprensión del bosón de Higgs:\\n\\n* **Diversidad de modos de desintegración:**  Muestran la importancia de explorar diferentes canales de desintegración, incluyendo los invisibles, para una comprensión completa de las propiedades del Higgs.  La posibilidad de desintegraciones invisibles, como se plantea en el primer documento, tiene implicaciones significativas para la búsqueda experimental.\\n\\n* **Limitaciones experimentales y búsqueda:** El segundo documento ilustra las dificultades experimentales en la búsqueda de desintegraciones invisibles y cómo se establecen límites en la masa del Higgs basándose en la ausencia de señal.\\n\\n* **Potencial de descubrimiento en diferentes experimentos:** El tercer documento destaca la importancia de la búsqueda en diferentes experimentos (en este caso, el LHC) y canales de desintegración para cubrir regiones del espacio de parámetros aún no exploradas.  La búsqueda en canales específicos como el muón-muón más dos jets b permite acceder a regiones donde otros métodos podrían ser menos sensibles.\\n\\nEn conjunto, estos documentos reflejan la complejidad de la física del bosón de Higgs y la necesidad de un enfoque multifacético, tanto teórico como experimental, para comprender completamente sus propiedades.' additional_kwargs={} response_metadata={'prompt_feedback': {'block_reason': 0, 'safety_ratings': []}, 'finish_reason': 'STOP', 'model_name': 'gemini-1.5-flash', 'safety_ratings': []} id='run--a3cd49c7-03cf-4fd2-b2ca-b9da2ff135d8-0'\n",
      "Coincidencias top-10 entre los tres modelos: 3\n",
      "\n",
      "=== Consulta: machine learning for particle physics ===\n",
      "TF-IDF:\n",
      "              id                                              title\n",
      "3452   0704.3453  An Adaptive Strategy for the Classification of...\n",
      "6320   0705.2318  Statistical Mechanics of Nonlinear On-line Lea...\n",
      "3904   0704.3905  Ensemble Learning for Free with Evolutionary A...\n",
      "4633   0705.0631                     Hybrid Quantum Cloning Machine\n",
      "13118  0706.4432        The minority game: An economics perspective\n",
      "11288  0706.2602  Effects of Hebbian learning on the dynamics an...\n",
      "1386   0704.1387                Description of the Scenario Machine\n",
      "5040   0705.1038  The Design of Parallel Kinematic Machine Tools...\n",
      "7692   0705.3690  A mathematical analysis of the effects of Hebb...\n",
      "14100  0707.0930  Bayesian Learning of Neural Networks for Signa...\n",
      "BM25:\n",
      "              id                                              title\n",
      "3452   0704.3453  An Adaptive Strategy for the Classification of...\n",
      "14100  0707.0930  Bayesian Learning of Neural Networks for Signa...\n",
      "3904   0704.3905  Ensemble Learning for Free with Evolutionary A...\n",
      "14876  0707.1706  Hard-scattering and Jets from RHIC to LHC: a c...\n",
      "1318   0704.1319  Using conceptual metaphor and functional gramm...\n",
      "6320   0705.2318  Statistical Mechanics of Nonlinear On-line Lea...\n",
      "4633   0705.0631                     Hybrid Quantum Cloning Machine\n",
      "9747   0706.1061  Design, Implementation, and Cooperative Coevol...\n",
      "13118  0706.4432        The minority game: An economics perspective\n",
      "15475  0707.2305  String Landscape and the Standard Model of Par...\n",
      "FAISS:\n",
      "              id                                              title\n",
      "14100  0707.0930  Bayesian Learning of Neural Networks for Signa...\n",
      "15739  0707.2569  A Particle-Particle, Particle-Density (P3D) al...\n",
      "7948   0705.3946  Interactions of Unparticles with Standard Mode...\n",
      "1880   0704.1881  Statistical Properties of Many Particle Eigenf...\n",
      "9614   0706.0928  An Analytic Perturbation Approach for Classica...\n",
      "8544   0705.4542  B \\to K(K^*) missing energy in Unparticle physics\n",
      "16890  0707.3720  Wounded quarks and diquarks in high energy col...\n",
      "16512  0707.3342     Automated calculations for multi-leg processes\n",
      "13269  0707.0099  Energy distributions from three-body decaying ...\n",
      "13964  0707.0794                            Field-theoretic methods\n",
      "Respuesta del RAG:\n",
      "content='Los documentos presentados ilustran el uso del aprendizaje automático, específicamente de redes neuronales, en la física de partículas.  Se destacan dos enfoques:\\n\\n* **Redes Neuronales Bayesianas para Discriminación de Señales:** Un documento describe el uso de redes neuronales bayesianas para la discriminación entre señal y ruido en la búsqueda de leptoquarks de segunda generación en el Tevatron.  Se compara el rendimiento de este método bayesiano con el entrenamiento convencional de redes neuronales, mostrando la superioridad del enfoque bayesiano en términos de optimización y robustez.  Esto es relevante porque la clasificación precisa de eventos es crucial en la física de partículas experimental para identificar nuevas partículas o fenómenos.\\n\\n* **Métodos computacionales eficientes para simulaciones:** Otro documento presenta un método eficiente para calcular la energía electrostática y las fuerzas entre partículas, considerando condiciones de contorno específicas (periódicas en dos direcciones y libres en una).  Aunque no se menciona explícitamente el aprendizaje automático, este tipo de algoritmos eficientes son fundamentales para las simulaciones en física de partículas, que a menudo requieren un gran poder computacional.  El desarrollo de métodos rápidos como este es esencial para el análisis de grandes conjuntos de datos generados en experimentos.\\n\\n* **Estudio de Unpartículas mediante operadores efectivos:** El tercer documento se centra en el estudio teórico de las \"unpartículas\",  hipotéticas partículas que surgen de teorías más allá del Modelo Estándar.  Se analizan sus interacciones con campos del Modelo Estándar a través de operadores efectivos, y se discuten las posibilidades de su producción y detección en colisionadores de partículas como $e^+e^-$.  Si bien no utiliza directamente el aprendizaje automático, este tipo de estudios teóricos son necesarios para guiar el diseño de experimentos y el análisis de datos, donde el aprendizaje automático juega un papel crucial.\\n\\n\\nEn resumen, los documentos muestran la aplicación y la importancia del aprendizaje automático (específicamente redes neuronales) y de métodos computacionales eficientes en diferentes aspectos de la física de partículas: desde el análisis de datos experimentales (discriminación de señal/ruido) hasta la simulación y el estudio teórico de nuevas partículas.  La relevancia radica en la necesidad de herramientas avanzadas para analizar los enormes conjuntos de datos generados en experimentos de física de partículas y para realizar simulaciones complejas que permitan comprender mejor el universo a nivel fundamental.' additional_kwargs={} response_metadata={'prompt_feedback': {'block_reason': 0, 'safety_ratings': []}, 'finish_reason': 'STOP', 'model_name': 'gemini-1.5-flash', 'safety_ratings': []} id='run--7a2cfcbd-1467-402d-80d2-8fdbaa817a37-0'\n",
      "Coincidencias top-10 entre los tres modelos: 1\n",
      "\n",
      "=== Consulta: top quark production ===\n",
      "TF-IDF:\n",
      "              id                                              title\n",
      "10670  0706.1984     Measurements of Top Properties at the Tevatron\n",
      "14512  0707.1342  Top Quark Production and Decay Properties at t...\n",
      "6433   0705.2431  Higher-order Threshold Corrections for Single ...\n",
      "7912   0705.3910      Precision Determination of the Top Quark Mass\n",
      "14417  0707.1247                       Top Quark Physics at the LHC\n",
      "1481   0704.1482  Deciphering top flavor violation at the LHC wi...\n",
      "8968   0706.0282                        Single Top Results from CDF\n",
      "14509  0707.1339  Finding the Charge of the top quark in the Dil...\n",
      "7253   0705.3251  Tevatron-for-LHC Report: Top and Electroweak P...\n",
      "9387   0706.0701  Top Pair Production cross-section at the Tevatron\n",
      "BM25:\n",
      "              id                                              title\n",
      "10670  0706.1984     Measurements of Top Properties at the Tevatron\n",
      "6433   0705.2431  Higher-order Threshold Corrections for Single ...\n",
      "14512  0707.1342  Top Quark Production and Decay Properties at t...\n",
      "9387   0706.0701  Top Pair Production cross-section at the Tevatron\n",
      "15737  0707.2567  Searches for Direct Pair Production of Supersy...\n",
      "6790   0705.2788  Measurement of the ttbar production cross sect...\n",
      "14720  0707.1550  Search for Single Top Quark Production Using L...\n",
      "12476  0706.3790  Measurement of the p anti-p to t anti-t Produc...\n",
      "7253   0705.3251  Tevatron-for-LHC Report: Top and Electroweak P...\n",
      "839    0704.0840  Associated production of the charged Higgs bos...\n",
      "FAISS:\n",
      "              id                                              title\n",
      "14512  0707.1342  Top Quark Production and Decay Properties at t...\n",
      "10670  0706.1984     Measurements of Top Properties at the Tevatron\n",
      "8723   0706.0037     Evidence for single top quark production at D0\n",
      "7023   0705.3021           Early physics with top quarks at the LHC\n",
      "15236  0707.2066   High p_T Top Quarks at the Large Hadron Collider\n",
      "14417  0707.1247                       Top Quark Physics at the LHC\n",
      "15737  0707.2567  Searches for Direct Pair Production of Supersy...\n",
      "11419  0706.2733  Ultrasoft contribution to quarkonium productio...\n",
      "8968   0706.0282                        Single Top Results from CDF\n",
      "14720  0707.1550  Search for Single Top Quark Production Using L...\n",
      "Respuesta del RAG:\n",
      "content=\"Los documentos presentan resultados de las colaboraciones CDF y D0 en el Tevatron sobre la producción de quarks top.  Se resumen los hallazgos en varios puntos:\\n\\n* **Mediciones de propiedades del quark top:** Se midieron la sección transversal de producción de pares top-antitop, límites en la producción electrodébil, carga, tiempo de vida y razón de ramificación de la desintegración t→Wb.  También se estudió la helicidad del bosón W y se buscó la existencia de quarks exóticos (t') y resonancias en el espectro de masa invariante ttbar.\\n\\n* **Análisis de mecanismos de producción:** Se investigó el mecanismo de producción del quark top, incluyendo la producción resonante ttbar, la estructura V-A del vértice de desintegración t→Wb, la carga del quark top y la producción de un solo quark top a través de corrientes neutras que cambian sabor.  El objetivo principal era verificar si el quark top observado se corresponde con el predicho por el Modelo Estándar.\\n\\n* **Evidencia de producción de un solo quark top:** Se presenta el primer análisis que muestra evidencia de la producción de un solo quark top, utilizando 0.9 fb⁻¹ de datos del detector D0. Se obtuvo una sección transversal de producción medida de 4.8 ± 1.3 pb, con una significancia de 3.5 desviaciones estándar.\\n\\n**Relevancia de los documentos:**\\n\\nLa relevancia radica en que estos documentos presentan resultados experimentales cruciales para la comprensión del quark top, una partícula fundamental del Modelo Estándar.  La confirmación de sus propiedades predichas y la evidencia de nuevos mecanismos de producción (como la producción de un solo quark top) son vitales para validar o refutar el Modelo Estándar y explorar posibles extensiones de la física más allá de este modelo.  La precisión de las mediciones, obtenidas gracias a los grandes conjuntos de datos del Tevatron, permite realizar pruebas rigurosas del Modelo Estándar y buscar nueva física.  En particular, la evidencia de la producción de un solo quark top representa un avance significativo en la comprensión de la interacción del quark top.\" additional_kwargs={} response_metadata={'prompt_feedback': {'block_reason': 0, 'safety_ratings': []}, 'finish_reason': 'STOP', 'model_name': 'gemini-1.5-flash', 'safety_ratings': []} id='run--07cef9b3-4657-484e-b6d4-2b02ffd7dad4-0'\n",
      "Coincidencias top-10 entre los tres modelos: 2\n"
     ]
    }
   ],
   "source": [
    "for query in queries:\n",
    "    print(f\"\\n=== Consulta: {query} ===\")\n",
    "    tfidf_res = search_tfidf(query)\n",
    "    bm25_res = search_bm25(query)\n",
    "    faiss_res = search_faiss(query)\n",
    "    rag_res = rag_answer(query)\n",
    "\n",
    "    print(\"TF-IDF:\")\n",
    "    print(tfidf_res[['id', 'title']])\n",
    "    print(\"BM25:\")\n",
    "    print(bm25_res[['id', 'title']])\n",
    "    print(\"FAISS:\")\n",
    "    print(faiss_res[['id', 'title']])\n",
    "    print(\"Respuesta del RAG:\")\n",
    "    print(rag_res)\n",
    "\n",
    "    # Medir similitud entre rankings\n",
    "    tfidf_ids = set(tfidf_res['id'])\n",
    "    bm25_ids = set(bm25_res['id'])\n",
    "    faiss_ids = set(faiss_res['id'])\n",
    "    interseccion = tfidf_ids & bm25_ids & faiss_ids\n",
    "\n",
    "    print(\"Coincidencias top-10 entre los tres modelos:\", len(interseccion))\n",
    "\n",
    "    resultados.append({\n",
    "        \"consulta\": query,\n",
    "        \"tfidf_top1\": tfidf_res.iloc[0]['title'],\n",
    "        \"bm25_top1\": bm25_res.iloc[0]['title'],\n",
    "        \"faiss_top1\": faiss_res.iloc[0]['title'],\n",
    "        \"coincidencias_top10\": len(interseccion),\n",
    "        \"rag_respuesta\": rag_res\n",
    "    })\n"
   ]
  },
  {
   "cell_type": "code",
   "execution_count": 27,
   "id": "689c3b4b",
   "metadata": {},
   "outputs": [
    {
     "data": {
      "text/plain": [
       "[{'consulta': 'diphoton production cross sections',\n",
       "  'tfidf_top1': 'Exclusive e+e-, Di-photon and Di-jet Production at the Tevatron',\n",
       "  'bm25_top1': 'Exclusive e+e-, Di-photon and Di-jet Production at the Tevatron',\n",
       "  'faiss_top1': 'Exclusive e+e-, Di-photon and Di-jet Production at the Tevatron',\n",
       "  'coincidencias_top10': 3,\n",
       "  'rag_respuesta': AIMessage(content='Los documentos presentan información sobre las secciones transversales de producción de difotones en colisiones hadrónicas, con énfasis en diferentes aspectos y energías.\\n\\n**Resumen:**\\n\\n* **Documento 1:** Se centra en la observación y medición de la sección transversal de la producción exclusiva de pares e+e- y di-jets en colisiones protón-antiprotón en el Tevatron de Fermilab.  Aunque no se centra directamente en difotones,  establece un contexto experimental importante para la producción de pares de partículas en colisiones hadrónicas.\\n\\n* **Documento 2:** Presenta un cálculo completamente diferencial en QCD perturbativa para la producción de pares de fotones masivos en colisiones hadrónicas. Incluye contribuciones de orden siguiente a líder (NLO) de varios subprocesos y la resumación de todos los órdenes de la radiación gluónica inicial.  Compara los resultados con datos del Tevatron y proporciona predicciones para el LHC, incluyendo una comparación con la producción de difotones a partir de la desintegración de un bosón de Higgs.  Este es el documento más relevante para la pregunta, ya que proporciona un cálculo detallado de las secciones transversales de producción de difotones.\\n\\n* **Documento 3:** Se enfoca en la producción del bosón de Higgs más ligero junto con un jet hadrónico de alto pT en el MSSM. Aunque no trata directamente la producción de difotones *desde procesos QCD*,  es relevante indirectamente porque el bosón de Higgs puede decaer en difotones, y este documento proporciona información sobre la producción del Higgs, un proceso que contribuye a la producción de difotones.\\n\\n\\n**Relevancia:**\\n\\nLos tres documentos son relevantes para comprender las secciones transversales de producción de difotones porque abordan diferentes aspectos del problema: el documento 1 proporciona un contexto experimental general, el documento 2 ofrece un cálculo teórico detallado de las secciones transversales de difotones desde procesos QCD, y el documento 3 proporciona información sobre un proceso que contribuye a la producción de difotones (decaimiento del Higgs).  En conjunto, estos documentos ilustran la complejidad del estudio de la producción de difotones y la necesidad de cálculos teóricos precisos y datos experimentales para una comprensión completa del fenómeno.  El documento 2 es el más directamente relevante para la pregunta específica sobre las secciones transversales de producción de difotones.', additional_kwargs={}, response_metadata={'prompt_feedback': {'block_reason': 0, 'safety_ratings': []}, 'finish_reason': 'STOP', 'model_name': 'gemini-1.5-flash', 'safety_ratings': []}, id='run--8d6f3ac0-3d51-41fe-a4c7-4a5d0fc80fbc-0')},\n",
       " {'consulta': 'quantum chromodynamics',\n",
       "  'tfidf_top1': 'Monte Carlo Methods in Quantum Field Theory',\n",
       "  'bm25_top1': 'Two interacting GL-equations in High-T$_c$ superconductivity and quantum\\n  chromodynamics',\n",
       "  'faiss_top1': 'Monte Carlo Methods in Quantum Field Theory',\n",
       "  'coincidencias_top10': 3,\n",
       "  'rag_respuesta': AIMessage(content='El documento describe aplicaciones de métodos de integración de Monte Carlo en Cromodinámica Cuántica (QCD).  Se explora la posible conexión entre la superconductividad de alta temperatura crítica (alta-T<sub>c</sub>) y la QCD, basándose en dos ecuaciones de Ginzburg-Landau que interactúan.  En el contexto de la alta-T<sub>c</sub>, estas ecuaciones describen la interacción entre electrones de Cooper y diferentes cuasipartículas (fonones, magnones, excitones, etc.), mientras que en QCD describen dos tipos de condensados de gauge, representando un potencial de gauge de una subálgebra del grupo gauge SU(3) y su cociente. Se encuentran soluciones regulares donde un campo, ψ₁, es desplazado por otro, ψ₂.\\n\\nAdemás, se analiza la conexión entre dos enfoques no perturbativos en QCD: un método de coordenadas colectivas y la separación espín-carga. Se demuestra que ambos enfoques están relacionados por la existencia de dos condensados necesarios para el confinamiento.\\n\\n**Relevancia del documento:**\\n\\nLa relevancia del documento radica en su exploración de la conexión entre la superconductividad de alta-T<sub>c</sub> y la QCD, dos áreas aparentemente dispares de la física.  Esto se logra mediante un modelo basado en ecuaciones de Ginzburg-Landau, ofreciendo una posible analogía entre los fenómenos físicos involucrados.  Además, la conexión establecida entre dos métodos no perturbativos en QCD,  el método de coordenadas colectivas y la separación espín-carga,  contribuye a una comprensión más profunda de los mecanismos de confinamiento en QCD, un problema fundamental aún no completamente resuelto.  El uso de métodos de integración de Monte Carlo destaca la aplicación de técnicas computacionales avanzadas para abordar problemas complejos en física teórica.  En resumen, el documento presenta un enfoque innovador y relevante para entender aspectos no perturbativos de la QCD y su posible relación con otros fenómenos físicos.', additional_kwargs={}, response_metadata={'prompt_feedback': {'block_reason': 0, 'safety_ratings': []}, 'finish_reason': 'STOP', 'model_name': 'gemini-1.5-flash', 'safety_ratings': []}, id='run--01b71f6d-a4ec-433b-8e91-a6fc37bdcd7f-0')},\n",
       " {'consulta': 'higgs boson decay',\n",
       "  'tfidf_top1': 'Prospects for the search for Higgs bosons with vector boson fusion\\n  processes at the LHC',\n",
       "  'bm25_top1': 'Invisibly decaying Higgs boson in the Littlest Higgs model with T-parity',\n",
       "  'faiss_top1': 'Invisibly decaying Higgs boson in the Littlest Higgs model with T-parity',\n",
       "  'coincidencias_top10': 3,\n",
       "  'rag_respuesta': AIMessage(content='Los documentos describen diferentes aspectos de la desintegración del bosón de Higgs, enfocándose en escenarios donde este decae de forma invisible o en canales específicos.\\n\\n**Resumen:**\\n\\n* **Documento 1:**  Se centra en la posibilidad de que el bosón de Higgs en el modelo Littlest Higgs con T-paridad decaiga invisiblemente en un par de fotones pesados (A_H).  Se calcula una alta probabilidad de desintegración invisible (hasta 95%) para masas de Higgs intermedias, dependiendo del parámetro de ruptura de simetría (f) y la masa del Higgs.  Esto implica una anchura de desintegración total del Higgs significativamente mayor que en el Modelo Estándar.\\n\\n* **Documento 2:** Describe una búsqueda experimental del bosón de Higgs que decae invisiblemente en el detector OPAL en LEP.  Se busca la producción asociada de un bosón Z y un Higgs invisible (decaimiento en partículas neutras débilmente interactuantes),  no encontrándose evidencia de ello.  Se establece un límite inferior en la masa del Higgs (108.2 GeV) asumiendo una probabilidad de desintegración invisible del 100%.  También se buscan decaimientos casi invisibles en cascada.\\n\\n* **Documento 3:**  Se enfoca en el potencial de descubrimiento de bosones de Higgs neutros en el Modelo Supersimétrico Mínimo (MSSM) en el experimento ATLAS del LHC.  Se estudia la región de parámetros con alto bronceado β (15-50) y masa entre 95 y 130 GeV,  analizando el canal de desintegración h/A → μ⁺μ⁻ + 2b-jets.  Se considera también la posible contribución del bosón H a la señal.  Esta región no está completamente explorada por experimentos previos (LEP y Tevatron).\\n\\n\\n**Relevancia:**\\n\\nLos tres documentos son relevantes porque abordan diferentes aspectos cruciales en la comprensión del bosón de Higgs:\\n\\n* **Teoría vs. Experimento:** El primer documento presenta un modelo teórico que predice un decaimiento invisible del Higgs con una alta probabilidad, mientras que el segundo describe una búsqueda experimental de este decaimiento invisible, estableciendo límites en su existencia.  El tercer documento se centra en la búsqueda experimental en un canal específico, complementando la información.\\n\\n* **Diversidad de Canales de Desintegración:**  Los documentos exploran diferentes modos de desintegración del Higgs: invisible (documentos 1 y 2) y en muones y jets b (documento 3).  Esto es importante porque la probabilidad de observar el Higgs depende del canal de desintegración y de la energía del colisionador.\\n\\n* **Completitud de la Búsqueda:** El tercer documento destaca la necesidad de explorar regiones del espacio de parámetros que no han sido completamente cubiertas por experimentos anteriores, mostrando la importancia de la investigación continua en la física del Higgs.\\n\\nEn conjunto, estos documentos ilustran la complejidad de la física del bosón de Higgs, la necesidad de modelos teóricos para predecir sus propiedades y la importancia de las búsquedas experimentales para confirmar o refutar estas predicciones.', additional_kwargs={}, response_metadata={'prompt_feedback': {'block_reason': 0, 'safety_ratings': []}, 'finish_reason': 'STOP', 'model_name': 'gemini-1.5-flash', 'safety_ratings': []}, id='run--b3a0912a-ba2c-40f8-b8d4-3e9d32c95472-0')},\n",
       " {'consulta': 'machine learning for particle physics',\n",
       "  'tfidf_top1': 'An Adaptive Strategy for the Classification of G-Protein Coupled\\n  Receptors',\n",
       "  'bm25_top1': 'An Adaptive Strategy for the Classification of G-Protein Coupled\\n  Receptors',\n",
       "  'faiss_top1': 'Bayesian Learning of Neural Networks for Signal/Background\\n  Discrimination in Particle Physics',\n",
       "  'coincidencias_top10': 1,\n",
       "  'rag_respuesta': AIMessage(content='Los documentos presentados ilustran el uso del aprendizaje automático, específicamente de redes neuronales, en la física de partículas.  Se destacan dos enfoques:\\n\\n* **Redes Neuronales Bayesianas para Discriminación de Señales:** Un documento describe el uso de redes neuronales bayesianas para la discriminación entre señal y ruido en la búsqueda de leptoquarks de segunda generación en el Tevatron.  Se compara el rendimiento de este método bayesiano con el entrenamiento convencional de redes neuronales, mostrando la superioridad del enfoque bayesiano en términos de optimización y robustez.  Esto es relevante porque la clasificación precisa de eventos es crucial en la física de partículas experimental para identificar nuevas partículas o fenómenos.\\n\\n* **Métodos de cálculo eficientes para la física de partículas:** Otro documento presenta un método eficiente para calcular la energía electrostática y las fuerzas entre partículas, considerando condiciones de contorno específicas (periódicas en dos direcciones y libres en una).  Aunque no se menciona explícitamente el aprendizaje automático, este tipo de algoritmos eficientes son fundamentales para el análisis de grandes conjuntos de datos generados en experimentos de física de partículas, que son necesarios para entrenar modelos de aprendizaje automático.  La eficiencia computacional es crucial para el análisis de datos a gran escala.\\n\\n* **Estudio de Unpartículas mediante operadores efectivos:** El tercer documento se centra en el estudio teórico de las \"unpartículas\",  hipotéticas partículas que surgen de teorías más allá del Modelo Estándar.  Se analizan sus interacciones con campos del Modelo Estándar y se discuten las posibilidades de su detección en colisionadores de partículas como $e^+e^-$.  Aunque no utiliza directamente el aprendizaje automático, este tipo de estudios teóricos son esenciales para guiar el diseño de experimentos y el desarrollo de algoritmos de análisis de datos, incluyendo aquellos basados en aprendizaje automático, para la búsqueda de nueva física.\\n\\n\\nEn resumen, los documentos muestran la aplicación y la importancia del aprendizaje automático (específicamente redes neuronales) y de métodos computacionales eficientes en la física de partículas, tanto en el análisis de datos experimentales (discriminación de señal/ruido) como en el desarrollo de modelos teóricos para la búsqueda de nueva física.  La relevancia radica en la necesidad de herramientas avanzadas para analizar los enormes conjuntos de datos generados en experimentos de alta energía y para extraer información significativa que pueda revelar nueva física.', additional_kwargs={}, response_metadata={'prompt_feedback': {'block_reason': 0, 'safety_ratings': []}, 'finish_reason': 'STOP', 'model_name': 'gemini-1.5-flash', 'safety_ratings': []}, id='run--e5c878b1-295a-4caf-b852-7c398efbfb68-0')},\n",
       " {'consulta': 'top quark production',\n",
       "  'tfidf_top1': 'Measurements of Top Properties at the Tevatron',\n",
       "  'bm25_top1': 'Measurements of Top Properties at the Tevatron',\n",
       "  'faiss_top1': 'Top Quark Production and Decay Properties at the Tevatron',\n",
       "  'coincidencias_top10': 2,\n",
       "  'rag_respuesta': AIMessage(content=\"Los documentos presentan resultados de las colaboraciones CDF y D0 en el Tevatron sobre la producción de quarks top.  Se resumen los hallazgos en varios puntos:\\n\\n* **Mediciones de propiedades del quark top:** Se midieron la sección transversal de producción de pares top-antitop, límites en la producción electrodébil, carga, tiempo de vida y razón de ramificación de la desintegración t→Wb.  También se estudió la helicidad del bosón W y se buscó la existencia de quarks exóticos (t') y resonancias en el espectro de masa invariante ttbar.\\n\\n* **Análisis de mecanismos de producción:** Se investigó el mecanismo de producción del quark top, incluyendo la producción resonante ttbar, la estructura V-A del vértice de desintegración t→Wb, la carga del quark top y la producción de un solo quark top a través de corrientes neutras que cambian sabor.  El objetivo principal era verificar si el quark top observado en el Tevatron corresponde al quark top del Modelo Estándar.\\n\\n* **Evidencia de producción de un solo quark top:** Se presenta el primer análisis que muestra evidencia de la producción de un solo quark top, utilizando 0.9 fb⁻¹ de datos del detector D0. Se obtuvo una sección transversal de producción medida de 4.8 ± 1.3 pb, con una significancia de 3.5 desviaciones estándar.\\n\\n**Relevancia de los documentos:**\\n\\nLa relevancia radica en que estos documentos presentan resultados experimentales cruciales para la comprensión del quark top, una partícula fundamental del Modelo Estándar.  La confirmación de sus propiedades predichas y la observación de la producción de un solo quark top (un proceso raro) son pruebas importantes para validar el Modelo Estándar o, en su defecto, para descubrir nueva física más allá de éste.  La precisión de las mediciones, obtenidas gracias a los grandes conjuntos de datos del Tevatron, permite realizar pruebas rigurosas del Modelo Estándar y explorar posibles desviaciones que podrían indicar la existencia de nuevas partículas o interacciones.  En resumen, estos documentos contribuyen significativamente al conocimiento de la física de partículas y al entendimiento del universo a nivel fundamental.\", additional_kwargs={}, response_metadata={'prompt_feedback': {'block_reason': 0, 'safety_ratings': []}, 'finish_reason': 'STOP', 'model_name': 'gemini-1.5-flash', 'safety_ratings': []}, id='run--c24e0a38-f9bf-40e3-bac5-acd02b728064-0')}]"
      ]
     },
     "execution_count": 27,
     "metadata": {},
     "output_type": "execute_result"
    }
   ],
   "source": [
    "resultados"
   ]
  },
  {
   "cell_type": "markdown",
   "id": "924df46b",
   "metadata": {},
   "source": [
    "## 6. Informe"
   ]
  },
  {
   "cell_type": "markdown",
   "id": "23737c7c",
   "metadata": {},
   "source": [
    "### Implementación de la arquitectura\n",
    "La arquitectura implementada incluye:\n",
    "- Preprocesamiento del corpus (minúsculas, stopwords, tokenización)\n",
    "- Indexación con TF-IDF, BM25 y FAISS (embeddings)\n",
    "- Funciones de búsqueda para cada modelo\n",
    "- Módulo RAG integrado con Gemini"
   ]
  },
  {
   "cell_type": "markdown",
   "id": "334aea91",
   "metadata": {},
   "source": [
    "### Tabla comparativa de resultados entre modelos"
   ]
  },
  {
   "cell_type": "markdown",
   "id": "e79940da",
   "metadata": {},
   "source": [
    "\n",
    "| Consulta                               | TF-IDF Top 1                                                                 | BM25 Top 1                                                                 | FAISS Top 1                                                                | Coincidencias Top-10 |\n",
    "|----------------------------------------|------------------------------------------------------------------------------|----------------------------------------------------------------------------|---------------------------------------------------------------------------|----------------------|\n",
    "| diphoton production cross sections     | Exclusive e+e-, Di-photon and Di-jet Production at the Tevatron              | Exclusive e+e-, Di-photon and Di-jet Production at the Tevatron             | Exclusive e+e-, Di-photon and Di-jet Production at the Tevatron            | 3                    |\n",
    "| quantum chromodynamics                 | Monte Carlo Methods in Quantum Field Theory                                  | Two interacting GL-equations in High-T$_c$ superconductivity and quantum chromodynamics | Monte Carlo Methods in Quantum Field Theory                                | 3                    |\n",
    "| higgs boson decay                      | Prospects for the search for Higgs bosons with vector boson fusion processes at the LHC | Invisibly decaying Higgs boson in the Littlest Higgs model with T-parity    | Invisibly decaying Higgs boson in the Littlest Higgs model with T-parity   | 3                    |\n",
    "| machine learning for particle physics  | An Adaptive Strategy for the Classification of G-Protein Coupled Receptors   | An Adaptive Strategy for the Classification of G-Protein Coupled Receptors  | Bayesian Learning of Neural Networks for Signal/Background Discrimination in Particle Physics | 1                    |\n",
    "| top quark production                   | Measurements of Top Properties at the Tevatron                               | Measurements of Top Properties at the Tevatron                              | Top Quark Production and Decay Properties at the Tevatron                  | 2                    |"
   ]
  },
  {
   "cell_type": "markdown",
   "id": "ed77e9c9",
   "metadata": {},
   "source": [
    "### Ejemplo de una consulta y su respuesta generada con RAG\n",
    "\n",
    "**Consulta:** machine learning for particle physics\n",
    "\n",
    "**Respuesta RAG:**"
   ]
  },
  {
   "cell_type": "code",
   "execution_count": 30,
   "id": "e2265baf",
   "metadata": {},
   "outputs": [
    {
     "name": "stdout",
     "output_type": "stream",
     "text": [
      "content='Los documentos presentados ilustran el uso del aprendizaje automático, específicamente de redes neuronales, en la física de partículas.  Se destacan dos enfoques:\\n\\n* **Redes Neuronales Bayesianas para Discriminación de Señales:** Un documento describe el uso de redes neuronales bayesianas para la discriminación entre señal y ruido en la búsqueda de leptoquarks de segunda generación en el Tevatron.  Se compara el rendimiento de este método bayesiano con el entrenamiento convencional de redes neuronales, mostrando la superioridad del enfoque bayesiano en términos de optimización y robustez.  Esto es relevante porque la clasificación precisa de eventos es crucial en la física de partículas experimental para identificar nuevas partículas o fenómenos.\\n\\n* **Métodos computacionales eficientes para simulaciones:** Otro documento presenta un método eficiente para calcular la energía electrostática y las fuerzas entre partículas, considerando condiciones de contorno específicas (periódicas en dos direcciones y libres en una).  Aunque no se menciona explícitamente el aprendizaje automático, este tipo de algoritmos eficientes son fundamentales para las simulaciones en física de partículas, que a menudo requieren un gran poder computacional.  El desarrollo de métodos rápidos como este es esencial para el análisis de grandes conjuntos de datos generados en experimentos.\\n\\n* **Estudio de Unpartículas mediante operadores efectivos:** El tercer documento se centra en el estudio teórico de las \"unpartículas\",  hipotéticas partículas que surgen de teorías más allá del Modelo Estándar.  Se analizan sus interacciones con campos del Modelo Estándar a través de operadores efectivos, y se discuten las posibilidades de su producción y detección en colisionadores de partículas como $e^+e^-$.  Aunque no utiliza directamente el aprendizaje automático, este tipo de estudios teóricos son necesarios para guiar el diseño de experimentos y el análisis de datos, donde el aprendizaje automático juega un papel crucial.\\n\\n\\nEn resumen, los documentos muestran la aplicación y la importancia del aprendizaje automático (específicamente redes neuronales) y de métodos computacionales eficientes en diferentes aspectos de la física de partículas: desde el análisis de datos experimentales (discriminación de señal/ruido) hasta la simulación y el estudio teórico de nuevas partículas.  La relevancia radica en la necesidad de herramientas avanzadas para analizar los enormes conjuntos de datos generados en los experimentos de física de partículas y para realizar simulaciones complejas que permitan comprender mejor el universo a nivel fundamental.' additional_kwargs={} response_metadata={'prompt_feedback': {'block_reason': 0, 'safety_ratings': []}, 'finish_reason': 'STOP', 'model_name': 'gemini-1.5-flash', 'safety_ratings': []} id='run--9356f039-57e8-4f6e-bad2-53723993305c-0'\n"
     ]
    }
   ],
   "source": [
    "respuesta_rag = rag_answer(\"machine learning for particle physics\")\n",
    "print(respuesta_rag)"
   ]
  },
  {
   "cell_type": "markdown",
   "id": "abc3797d",
   "metadata": {},
   "source": [
    "### Diferencias entre modelos y utilidad del RAG"
   ]
  },
  {
   "cell_type": "markdown",
   "id": "933a41d6",
   "metadata": {},
   "source": [
    "1. ¿Cuáles documentos aparecen en común?\n",
    "\n",
    "Los tres modelos coinciden en algunos documentos relevantes. Por ejemplo, para la consulta \"diphoton production cross sections\" el documento 0705.3804 aparece en el top-1 de los tres modelos, esto podría indicarme que, aunque los metodos de recuperación son diferentes existen documentos que son realmente relevantes como en este caso."
   ]
  },
  {
   "cell_type": "code",
   "execution_count": 48,
   "id": "c94eb308",
   "metadata": {},
   "outputs": [
    {
     "name": "stdout",
     "output_type": "stream",
     "text": [
      "TF-IDF Top 1: Exclusive e+e-, Di-photon and Di-jet Production at the Tevatron\n",
      "BM25 Top 1: Exclusive e+e-, Di-photon and Di-jet Production at the Tevatron\n",
      "FAISS Top 1: Exclusive e+e-, Di-photon and Di-jet Production at the Tevatron\n",
      "TF-IDF Top 1: Exclusive e+e-, Di-photon and Di-jet Production at the Tevatron\n",
      "BM25 Top 1: Exclusive e+e-, Di-photon and Di-jet Production at the Tevatron\n",
      "FAISS Top 1: Exclusive e+e-, Di-photon and Di-jet Production at the Tevatron\n"
     ]
    }
   ],
   "source": [
    "for r in resultados:\n",
    "    if r[\"consulta\"] == \"diphoton production cross sections\":\n",
    "        print(\"TF-IDF Top 1:\", r[\"tfidf_top1\"])\n",
    "        print(\"BM25 Top 1:\", r[\"bm25_top1\"])\n",
    "        print(\"FAISS Top 1:\", r[\"faiss_top1\"])"
   ]
  },
  {
   "cell_type": "markdown",
   "id": "189a244a",
   "metadata": {},
   "source": [
    "Además según la tabla comparativa el promedio de las coincidencias top-10 es de 3 documentos presentes en los 3 modelos al mismo tiempo"
   ]
  },
  {
   "cell_type": "code",
   "execution_count": 44,
   "id": "5e58f981",
   "metadata": {},
   "outputs": [
    {
     "name": "stdout",
     "output_type": "stream",
     "text": [
      "Documentos en común en el top-10 de los tres modelos:\n",
      "- 0705.4313: Projectile Fragmentation of $^{86}$Kr at 64 MeV/nucleon\n",
      "- 0704.0001: Calculation of prompt diphoton production cross sections at Tevatron and\n",
      "  LHC energies\n",
      "- 0705.3804: Exclusive e+e-, Di-photon and Di-jet Production at the Tevatron\n",
      "Total de coincidencias top-10: 3\n"
     ]
    }
   ],
   "source": [
    "query = \"diphoton production cross sections\"\n",
    "tfidf_res = search_tfidf(query)\n",
    "bm25_res = search_bm25(query)\n",
    "faiss_res = search_faiss(query)\n",
    "\n",
    "tfidf_ids = set(tfidf_res['id'])\n",
    "bm25_ids = set(bm25_res['id'])\n",
    "faiss_ids = set(faiss_res['id'])\n",
    "comunes = tfidf_ids & bm25_ids & faiss_ids\n",
    "\n",
    "print(\"Documentos en común en el top-10 de los tres modelos:\")\n",
    "for doc_id in comunes:\n",
    "    titulo = df[df['id'] == doc_id]['title'].values[0]\n",
    "    print(f\"- {doc_id}: {titulo}\")\n",
    "print(f\"Total de coincidencias top-10: {len(comunes)}\")"
   ]
  },
  {
   "cell_type": "markdown",
   "id": "0f3f95c4",
   "metadata": {},
   "source": [
    "2. ¿Qué diferencias hay en el ordenamiento?\n",
    "\n",
    "Aunque hay coincidencias en los documentos recuperados, el orden en que aparecen varía entre modelos. Por ejemplo, para la consulta \"top quark production\", el documento 0706.1984 es el primero tanto en TF–IDF como en BM25, pero en FAISS aparece en segunda posición. \n",
    "\n",
    "Además, FAISS tiende a incluir algunos artículos que no aparecen en los otros modelos, ya que prioriza la similitud semántica, mientras que TF–IDF y BM25 dependen más de la frecuencia y el peso de los términos exactos."
   ]
  },
  {
   "cell_type": "code",
   "execution_count": 52,
   "id": "0c4cba55",
   "metadata": {},
   "outputs": [
    {
     "name": "stdout",
     "output_type": "stream",
     "text": [
      "TF-IDF Top 1: Measurements of Top Properties at the Tevatron\n",
      "BM25 Top 1: Measurements of Top Properties at the Tevatron\n",
      "FAISS Top 1: Top Quark Production and Decay Properties at the Tevatron\n",
      "TF-IDF Top 1: Measurements of Top Properties at the Tevatron\n",
      "BM25 Top 1: Measurements of Top Properties at the Tevatron\n",
      "FAISS Top 1: Top Quark Production and Decay Properties at the Tevatron\n"
     ]
    }
   ],
   "source": [
    "for r1 in resultados:\n",
    "    if r1[\"consulta\"] == \"top quark production\":\n",
    "        print(\"TF-IDF Top 1:\", r1[\"tfidf_top1\"])\n",
    "        print(\"BM25 Top 1:\", r1[\"bm25_top1\"])\n",
    "        print(\"FAISS Top 1:\", r1[\"faiss_top1\"])"
   ]
  }
 ],
 "metadata": {
  "kernelspec": {
   "display_name": "Python 3",
   "language": "python",
   "name": "python3"
  },
  "language_info": {
   "codemirror_mode": {
    "name": "ipython",
    "version": 3
   },
   "file_extension": ".py",
   "mimetype": "text/x-python",
   "name": "python",
   "nbconvert_exporter": "python",
   "pygments_lexer": "ipython3",
   "version": "3.12.8"
  }
 },
 "nbformat": 4,
 "nbformat_minor": 5
}
