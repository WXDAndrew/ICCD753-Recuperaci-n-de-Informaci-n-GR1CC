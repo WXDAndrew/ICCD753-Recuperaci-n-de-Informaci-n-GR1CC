{
  "cells": [
    {
      "cell_type": "markdown",
      "id": "941741204a003f44",
      "metadata": {
        "id": "941741204a003f44"
      },
      "source": [
        "# Ejercicio 4: Modelo Probabilístico\n",
        "\n",
        "## Objetivo de la práctica\n",
        "- Comprender los componentes del modelo vectorial mediante cálculos manuales y observación directa.\n",
        "- Aplicar el modelo de espacio vectorial con TF-IDF para recuperar documentos relevantes.\n",
        "- Comparar la recuperación con BM25 frente a TF-IDF.\n",
        "- Analizar visualmente las diferencias entre los modelos.\n",
        "- Evaluar si los rankings generados son consistentes con lo que considerarías documentos relevantes."
      ]
    },
    {
      "cell_type": "markdown",
      "id": "93bafe7a6a4ef9e5",
      "metadata": {
        "id": "93bafe7a6a4ef9e5"
      },
      "source": [
        "## Parte 0: Carga del Corpus"
      ]
    },
    {
      "cell_type": "code",
      "execution_count": 2,
      "id": "ad08bb8bd43ae327",
      "metadata": {
        "ExecuteTime": {
          "end_time": "2025-05-21T14:16:07.323562Z",
          "start_time": "2025-05-21T14:16:05.364309Z"
        },
        "id": "ad08bb8bd43ae327"
      },
      "outputs": [],
      "source": [
        "from sklearn.datasets import fetch_20newsgroups\n",
        "from sklearn.feature_extraction.text import CountVectorizer, TfidfVectorizer\n",
        "from sklearn.metrics.pairwise import cosine_similarity\n",
        "import pandas as pd\n",
        "import numpy as np\n",
        "\n",
        "newsgroups = fetch_20newsgroups(subset='all', remove=('headers', 'footers', 'quotes'))\n",
        "newsgroupsdocs = newsgroups.data[:1000]"
      ]
    },
    {
      "cell_type": "markdown",
      "id": "10f8c7f78934f497",
      "metadata": {
        "id": "10f8c7f78934f497"
      },
      "source": [
        "## Parte 1: Cálculo de TF, DF, IDF y TF-IDF\n",
        "\n",
        "### Actividad\n",
        "1. Utiliza el corpus cargado.\n",
        "2. Construye la matriz de términos (TF), y calcula la frecuencia de documentos (DF)\n",
        "3. Calcula TF-IDF utilizando sklearn.\n",
        "4. Visualiza los valores en un DataFrame para analizar las diferencias entre los términos."
      ]
    },
    {
      "cell_type": "code",
      "execution_count": 3,
      "id": "d2ebd9f1c1b6c787",
      "metadata": {
        "id": "d2ebd9f1c1b6c787"
      },
      "outputs": [],
      "source": [
        "# Construir la matriz de términos TF\n",
        "vectorizer = CountVectorizer()\n",
        "X_counts = vectorizer.fit_transform(newsgroupsdocs)\n",
        "\n",
        "# Obtener términos y construir el DataFrame de vectorizer (matríz TF)\n",
        "terms = vectorizer.get_feature_names_out()\n",
        "tf_df = pd.DataFrame(X_counts.toarray(), columns=terms)\n",
        "\n",
        "# Calcular la frecuencia de documentos DF\n",
        "df = np.sum(X_counts.toarray() > 0, axis=0)\n",
        "df_series = pd.Series(df, index=terms, name='DF')\n",
        "\n",
        "# Calcular TF-IDF\n",
        "tfidf_vectorizer = TfidfVectorizer()\n",
        "X_tfidf = tfidf_vectorizer.fit_transform(newsgroupsdocs)\n",
        "\n",
        "# Obtener términos y construir el DataFrame de tfidf_vectorizer (matríz TF-IDF)\n",
        "terms_tfidf = tfidf_vectorizer.get_feature_names_out()\n",
        "tfidf_df = pd.DataFrame(X_tfidf.toarray(), columns=terms_tfidf)\n",
        "\n",
        "# Obtener los IDFs a partir de la matriz TF-IDF\n",
        "idf_values = tfidf_vectorizer.idf_\n",
        "idf_df = pd.DataFrame({'Term': terms_tfidf, 'IDF': idf_values})\n",
        "top_idf = idf_df.sort_values(by='IDF', ascending=False).head(100) # Aquí delimita a 100 términos\n"
      ]
    },
    {
      "cell_type": "code",
      "execution_count": 4,
      "id": "dd118516",
      "metadata": {
        "colab": {
          "base_uri": "https://localhost:8080/"
        },
        "id": "dd118516",
        "outputId": "355a9424-6849-4bad-a6ba-98ae849f592b"
      },
      "outputs": [
        {
          "name": "stdout",
          "output_type": "stream",
          "text": [
            "TF (frecuencia de términos) - primeras filas:\n",
            "   00  000  00000000  00000074  0002  0029  0040000d  0055  00900001  01  ...  \\\n",
            "0   0    0         0         0     0     0         0     0         0   0  ...   \n",
            "1   0    0         0         0     0     0         0     0         0   0  ...   \n",
            "2   0    0         0         0     0     0         0     0         0   0  ...   \n",
            "3   0    0         0         0     0     0         0     0         0   0  ...   \n",
            "4   0    0         0         0     0     0         0     0         0   0  ...   \n",
            "\n",
            "   zooms  zubkoff  zubov  zuki  zur  zurbrin  zv  zviq  zx900  zzzzzzt  \n",
            "0      0        0      0     0    0        0   0     0      0        0  \n",
            "1      0        0      0     0    0        0   0     0      0        0  \n",
            "2      0        0      0     0    0        0   0     0      0        0  \n",
            "3      0        0      0     0    0        0   0     0      0        0  \n",
            "4      0        0      0     0    0        0   0     0      0        0  \n",
            "\n",
            "[5 rows x 18367 columns]\n",
            "\n",
            "DF (frecuencia de documentos) - top 10 términos:\n",
            "the    826\n",
            "to     750\n",
            "and    714\n",
            "of     676\n",
            "is     614\n",
            "Name: DF, dtype: int64\n",
            "\n",
            "TF-IDF - primeras filas:\n",
            "    00  000  00000000  00000074  0002  0029  0040000d  0055  00900001   01  \\\n",
            "0  0.0  0.0       0.0       0.0   0.0   0.0       0.0   0.0       0.0  0.0   \n",
            "1  0.0  0.0       0.0       0.0   0.0   0.0       0.0   0.0       0.0  0.0   \n",
            "2  0.0  0.0       0.0       0.0   0.0   0.0       0.0   0.0       0.0  0.0   \n",
            "3  0.0  0.0       0.0       0.0   0.0   0.0       0.0   0.0       0.0  0.0   \n",
            "4  0.0  0.0       0.0       0.0   0.0   0.0       0.0   0.0       0.0  0.0   \n",
            "\n",
            "   ...  zooms  zubkoff  zubov  zuki  zur  zurbrin   zv  zviq  zx900  zzzzzzt  \n",
            "0  ...    0.0      0.0    0.0   0.0  0.0      0.0  0.0   0.0    0.0      0.0  \n",
            "1  ...    0.0      0.0    0.0   0.0  0.0      0.0  0.0   0.0    0.0      0.0  \n",
            "2  ...    0.0      0.0    0.0   0.0  0.0      0.0  0.0   0.0    0.0      0.0  \n",
            "3  ...    0.0      0.0    0.0   0.0  0.0      0.0  0.0   0.0    0.0      0.0  \n",
            "4  ...    0.0      0.0    0.0   0.0  0.0      0.0  0.0   0.0    0.0      0.0  \n",
            "\n",
            "[5 rows x 18367 columns]\n",
            "\n",
            "Top 10 términos con mayor IDF:\n",
            "            Term       IDF\n",
            "18366    zzzzzzt  7.215608\n",
            "18365      zx900  7.215608\n",
            "18364       zviq  7.215608\n",
            "2       00000000  7.215608\n",
            "3       00000074  7.215608\n",
            "...          ...       ...\n",
            "18326        zan  7.215608\n",
            "18325      zalik  7.215608\n",
            "18324   zalapski  7.215608\n",
            "18323      zakat  7.215608\n",
            "18322  zabitlari  7.215608\n",
            "\n",
            "[100 rows x 2 columns]\n"
          ]
        }
      ],
      "source": [
        "# Visualizar los valores\n",
        "print(\"TF (frecuencia de términos) - primeras filas:\")\n",
        "print(tf_df.head())\n",
        "\n",
        "print(\"\\nDF (frecuencia de documentos) - top 10 términos:\")\n",
        "print(df_series.sort_values(ascending=False).head())\n",
        "\n",
        "print(\"\\nTF-IDF - primeras filas:\")\n",
        "print(tfidf_df.head())\n",
        "\n",
        "print(\"\\nTop 10 términos con mayor IDF:\")\n",
        "print(top_idf)\n"
      ]
    },
    {
      "cell_type": "markdown",
      "id": "64491bce5361e8b3",
      "metadata": {
        "id": "64491bce5361e8b3"
      },
      "source": [
        "## Parte 2: Ranking de documentos usando TF-IDF\n",
        "\n",
        "### Actividad\n",
        "\n",
        "1. Dada una consulta, construye el vector de consulta\n",
        "2. Calcula la similitud coseno entre la consulta y cada documento usando los vectores TF-IDF\n",
        "3. Genera un ranking de los documentos ordenados por relevancia.\n",
        "4. Muestra los resultados en una tabla."
      ]
    },
    {
      "cell_type": "code",
      "execution_count": 5,
      "id": "9d082c4a156b9554",
      "metadata": {
        "colab": {
          "base_uri": "https://localhost:8080/"
        },
        "id": "9d082c4a156b9554",
        "outputId": "6c350c17-56f6-4767-e3e6-ec2b6fa45805"
      },
      "outputs": [
        {
          "name": "stdout",
          "output_type": "stream",
          "text": [
            "   DocID  Similarity  \\\n",
            "0    656    0.247293   \n",
            "1    299    0.198563   \n",
            "2     32    0.194525   \n",
            "3    738    0.180158   \n",
            "4    124    0.159474   \n",
            "5    624    0.147370   \n",
            "6    799    0.141004   \n",
            "7     49    0.136182   \n",
            "8    408    0.132289   \n",
            "9    717    0.128509   \n",
            "\n",
            "                                                                                                                                                                                                      Text  \n",
            "0  Hello everybody,\\n\\nI am searching for (business) information of Motif applications, to create a\\nTOP-30 of most used WordProcessors, Spreadsheets, Drawing programs, Schedulers\\nand Fax programs, ...  \n",
            "1  This may be a stupid question, but how does the government know which keys\\nto ask for?\\n\\nWill owners be required to REGISTER their phones, faxes, modems, etc.,\\nand inform the government when th...  \n",
            "2                          Has anybody generated an X server for Windows NT?  If so, are you willing\\nto share your config file and other tricks necessary to make it work?\\n\\nThanks for any information.  \n",
            "3                       Is there anyone out there running a Chicago National\\n\\tLeague Ballclub list?  If so, please send me information\\n\\ton it to...\\n\\t\\t\\tandrew@aardvark.ucs.uoknor.edu\\n\\n\\tThanks!  \n",
            "4  }Dillon has published a letter in the Blue Press telling people\\n}\"How to Bankrupt HCI\" by requesting information from them.\\n}\\n}Last time this idea went around in rec.guns, a couple of people\\n}...  \n",
            "5  How can I obtain public information (documentation and sources)\\nabout Xservers implemented with graphics processors?\\n\\nI am specially interested in Xservers developed for the TMS34020\\nTexas Ins...  \n",
            "6  ] > Try reading between the lines David - there are *strong* hints in there \\n] > that they're angling for NREN next,\\n\\n] Where?  I honestly didn't see any...\\n\\nHint 1:\\n\\n: Sophisticated encryp...  \n",
            "7  I am looking for the exact address of the Symantec Coporatoin, which \\ndistributes Norton Desktop and other Windows software.\\n\\nThe information I am looking for is:\\n\\nMail address\\nPhone number\\...  \n",
            "8  \\n\\nThere is no database for infantile spasms, nor a newsgroup, that I\\nknow of.  The medical library will be the best source of information\\nfor you.\\n\\n\\n\\n\\n-- \\n-------------------------------...  \n",
            "9  \\nThat depends entirely upon the advertiser whose number you circled.\\nRadio Electronics compiles all of the cards, then each advertiser\\ngets a computer printout of the names and addresses of all...  \n"
          ]
        }
      ],
      "source": [
        "# Definir la consulta\n",
        "query = \"information\"\n",
        "\n",
        "# Vectorizar la consulta\n",
        "query_vector = vectorizer.transform([query])\n",
        "\n",
        "# Calcular la similitud coseno entre la consulta y todos los documentos\n",
        "similarities = cosine_similarity(query_vector, X_tfidf).flatten()\n",
        "\n",
        "# Crear un DataFrame con los resultados ordenados de manera descendente\n",
        "ranking = pd.DataFrame({\n",
        "    'DocID': range(len(newsgroupsdocs)),\n",
        "    'Similarity': similarities,\n",
        "    'Text': newsgroupsdocs\n",
        "})\n",
        "# Aquí se ordenan descendentemente\n",
        "ranking = ranking.sort_values(by='Similarity', ascending=False).reset_index(drop=True)\n",
        "\n",
        "# Mostrar los 10 documentos más relevantes\n",
        "pd.set_option('display.max_colwidth', 200)\n",
        "print(ranking[['DocID', 'Similarity', 'Text']].head(10)) # Aquí se limitan a 10 documentos\n",
        "\n"
      ]
    },
    {
      "cell_type": "markdown",
      "id": "97061325508dc5f2",
      "metadata": {
        "id": "97061325508dc5f2"
      },
      "source": [
        "## Parte 3: Ranking con BM25\n",
        "\n",
        "### Actividad\n",
        "\n",
        "1. Implementa un sistema de recuperación usando el modelo BM25.\n",
        "2. Usa la misma consulta del ejercicio anterior.\n",
        "3. Calcula el score BM25 para cada documento y genera un ranking.\n",
        "4. Compara manualmente con el ranking de TF-IDF."
      ]
    },
    {
      "cell_type": "code",
      "execution_count": 6,
      "id": "2a0dca2bcfa73c5b",
      "metadata": {
        "colab": {
          "base_uri": "https://localhost:8080/"
        },
        "id": "2a0dca2bcfa73c5b",
        "outputId": "120fb727-7428-4075-f0d6-20f0884eaddb"
      },
      "outputs": [
        {
          "name": "stdout",
          "output_type": "stream",
          "text": [
            "Collecting rank_bm25\n",
            "  Downloading rank_bm25-0.2.2-py3-none-any.whl.metadata (3.2 kB)\n",
            "Requirement already satisfied: numpy in c:\\users\\daniel\\appdata\\local\\programs\\python\\python312\\lib\\site-packages (from rank_bm25) (2.0.0)\n",
            "Downloading rank_bm25-0.2.2-py3-none-any.whl (8.6 kB)\n",
            "Installing collected packages: rank_bm25\n",
            "Successfully installed rank_bm25-0.2.2\n",
            "Note: you may need to restart the kernel to use updated packages.\n"
          ]
        }
      ],
      "source": [
        "pip install rank_bm25"
      ]
    },
    {
      "cell_type": "code",
      "execution_count": 7,
      "id": "QC7W7h-qWiCd",
      "metadata": {
        "colab": {
          "base_uri": "https://localhost:8080/"
        },
        "id": "QC7W7h-qWiCd",
        "outputId": "fb4b86ea-c31c-4b8d-8508-83606bf7008a"
      },
      "outputs": [
        {
          "name": "stdout",
          "output_type": "stream",
          "text": [
            "                                                                                                                                                                                                      Docs  \\\n",
            "0  Hello everybody,\\n\\nI am searching for (business) information of Motif applications, to create a\\nTOP-30 of most used WordProcessors, Spreadsheets, Drawing programs, Schedulers\\nand Fax programs, ...   \n",
            "1  This may be a stupid question, but how does the government know which keys\\nto ask for?\\n\\nWill owners be required to REGISTER their phones, faxes, modems, etc.,\\nand inform the government when th...   \n",
            "2  }Dillon has published a letter in the Blue Press telling people\\n}\"How to Bankrupt HCI\" by requesting information from them.\\n}\\n}Last time this idea went around in rec.guns, a couple of people\\n}...   \n",
            "3                       Is there anyone out there running a Chicago National\\n\\tLeague Ballclub list?  If so, please send me information\\n\\ton it to...\\n\\t\\t\\tandrew@aardvark.ucs.uoknor.edu\\n\\n\\tThanks!   \n",
            "4  How can I obtain public information (documentation and sources)\\nabout Xservers implemented with graphics processors?\\n\\nI am specially interested in Xservers developed for the TMS34020\\nTexas Ins...   \n",
            "5  I am looking for the exact address of the Symantec Coporatoin, which \\ndistributes Norton Desktop and other Windows software.\\n\\nThe information I am looking for is:\\n\\nMail address\\nPhone number\\...   \n",
            "6  \\n\\nThere is no database for infantile spasms, nor a newsgroup, that I\\nknow of.  The medical library will be the best source of information\\nfor you.\\n\\n\\n\\n\\n-- \\n-------------------------------...   \n",
            "7  I have the following 45 rpm singles for sale. Most are collectable 7-inch \\nrecords with picture sleeves. Price does not include postage which is $1.21 \\nfor the first record, $1.69 for two, etc.\\...   \n",
            "8  Australian Pattern Recognition Society\\n\\n                         2nd CALL FOR PAPERS\\n\\n                               DICTA-93\\n\\n                          2nd Conference on -\\n\\n         DIGIT...   \n",
            "9  Our group recently bought a Mitsubishi P78U video printer and I could use some\\nhelp with it.  We bought this thing because it (1) has a parallel data input in\\naddition to the usual video signal ...   \n",
            "\n",
            "   ScoresBM25    TF/IDF  \n",
            "0    5.634182  0.247293  \n",
            "1    5.216746  0.198563  \n",
            "2    5.135982  0.159474  \n",
            "3    4.996919  0.180158  \n",
            "4    4.864756  0.147370  \n",
            "5    4.699043  0.136182  \n",
            "6    4.452575  0.132289  \n",
            "7    4.230673  0.064718  \n",
            "8    4.226910  0.116011  \n",
            "9    3.820305  0.082504  \n"
          ]
        }
      ],
      "source": [
        "from rank_bm25 import BM25Okapi\n",
        "\n",
        "# Tokenizamos\n",
        "tokenized_corpus = [doc.lower().split() for doc in newsgroupsdocs]\n",
        "bm25_docs = BM25Okapi(tokenized_corpus)\n",
        "\n",
        "tokenized_query = query.lower().split()\n",
        "bm25_scores = bm25_docs.get_scores(tokenized_query)        # ndarray\n",
        "\n",
        "\n",
        "# UNIFICAR RESULTADOS EN UN SOLO DataFrame\n",
        "\n",
        "df = pd.DataFrame({\n",
        "    'Docs'       : newsgroupsdocs,\n",
        "    'ScoresBM25' : bm25_scores,\n",
        "    'TF/IDF'     : similarities\n",
        "})\n",
        "\n",
        "\n",
        "df = df.sort_values(by='ScoresBM25', ascending=False).reset_index(drop=True)\n",
        "\n",
        "\n",
        "# MOSTRAR LOS 10 DOCUMENTOS MÁS RELEVANTES\n",
        "\n",
        "pd.set_option('display.max_colwidth', 200)\n",
        "print(df.head(10)[['Docs', 'ScoresBM25', 'TF/IDF']])\n"
      ]
    },
    {
      "cell_type": "markdown",
      "id": "2c71b85e77b4b181",
      "metadata": {
        "id": "2c71b85e77b4b181"
      },
      "source": [
        "## Parte 4: Comparación visual entre TF-IDF y BM25\n",
        "\n",
        "### Actividad\n",
        "\n",
        "1. Utiliza un gráfico de barras para visualizar los scores obtenidos por cada documento según TF-IDF y BM25.\n",
        "2. Compara los rankings visualmente.\n",
        "3. Identifica: ¿Qué documentos obtienen scores más altos en un modelo que en otro?\n",
        "4. Sugiere: ¿A qué se podría deber esta diferencia?"
      ]
    },
    {
      "cell_type": "code",
      "execution_count": 8,
      "id": "dg5jIOqGdnwY",
      "metadata": {
        "colab": {
          "base_uri": "https://localhost:8080/",
          "height": 607
        },
        "id": "dg5jIOqGdnwY",
        "outputId": "0b6fa366-003e-413e-b5ad-9b142227de07"
      },
      "outputs": [
        {
          "data": {
            "image/png": "[encoded data removed]",
            "text/plain": [
              "<Figure size 1200x600 with 1 Axes>"
            ]
          },
          "metadata": {},
          "output_type": "display_data"
        }
      ],
      "source": [
        "import matplotlib.pyplot as plt\n",
        "from sklearn.preprocessing import MinMaxScaler\n",
        "\n",
        "# --- Normalización de los scores BM25 ---\n",
        "scaler = MinMaxScaler()\n",
        "bm25_scores_normalized = scaler.fit_transform(bm25_scores.reshape(-1, 1)).flatten()\n",
        "\n",
        "# --- Crear un único DataFrame con todos los datos ---\n",
        "df_comparacion = pd.DataFrame({\n",
        "    'DocID': range(len(newsgroupsdocs)),\n",
        "    'Text': newsgroupsdocs,\n",
        "    'TF/IDF': similarities,\n",
        "    'BM25_normalizado': bm25_scores_normalized\n",
        "})\n",
        "\n",
        "# --- Obtener los top-k documentos únicos combinando ambos rankings ---\n",
        "top_k = 10\n",
        "top_tfidf = df_comparacion.nlargest(top_k, 'TF/IDF')\n",
        "top_bm25 = df_comparacion.nlargest(top_k, 'BM25_normalizado')\n",
        "\n",
        "# --- Combinar los top-k de ambos rankings, eliminando duplicados ---\n",
        "df_top = pd.concat([top_tfidf, top_bm25]).drop_duplicates(subset='DocID').reset_index(drop=True)\n",
        "\n",
        "# --- Ordenar por relevancia combinada para visualización ---\n",
        "df_top.sort_values(by=[\"TF/IDF\", \"BM25_normalizado\"], ascending=False, inplace=True)\n",
        "\n",
        "# --- Gráfico comparativo ---\n",
        "x = np.arange(len(df_top))\n",
        "width = 0.4\n",
        "\n",
        "plt.figure(figsize=(12, 6))\n",
        "plt.bar(x - width/2, df_top['TF/IDF'], width, label='TF-IDF', color='green')\n",
        "plt.bar(x + width/2, df_top['BM25_normalizado'], width, label='BM25', color='blue')\n",
        "\n",
        "plt.xlabel('Índice de documento')\n",
        "plt.ylabel('Score')\n",
        "plt.title('TF-IDF vs BM25 (Top-k combinados)')\n",
        "plt.xticks(x, df_top['DocID'], rotation=45)\n",
        "plt.legend()\n",
        "plt.tight_layout()\n",
        "plt.show()\n"
      ]
    },
    {
      "cell_type": "markdown",
      "id": "b97d171655ecfb",
      "metadata": {
        "id": "b97d171655ecfb"
      },
      "source": [
        "## Parte 5: Evaluación con consulta relevante\n",
        "\n",
        "### Actividad\n",
        "\n",
        "1. Elige una consulta y define qué documentos del corpus deberían considerarse relevantes.\n",
        "2. Evalúa Precision@3 o MAP para los rankings generados con TF-IDF y BM25.\n",
        "3. Responde: ¿Cuál modelo da mejores resultados respecto a tu criterio de relevancia?"
      ]
    },
    {
      "cell_type": "code",
      "execution_count": 21,
      "id": "z3AOYT2Wm1ms",
      "metadata": {
        "colab": {
          "base_uri": "https://localhost:8080/"
        },
        "id": "z3AOYT2Wm1ms",
        "outputId": "546c54c0-642a-42ae-8687-75652812b65e"
      },
      "outputs": [
        {
          "name": "stdout",
          "output_type": "stream",
          "text": [
            "Documentos relevantes: [124, 299, 398, 403, 407, 546, 607, 656, 673, 682] ... (total: 13)\n",
            "Precisión@3 - TF-IDF: 0.667\n",
            "Precisión@3 - BM25:   0.000\n",
            "MAP - TF-IDF: 0.507\n",
            "MAP - BM25:   0.012\n",
            "\n",
            "El modelo con mejor Precisión@3 es: TF-IDF\n",
            "El modelo con mejor MAP es: TF-IDF\n"
          ]
        }
      ],
      "source": [
        "query = \"information\"\n",
        "\n",
        "relevant_ids = []\n",
        "\n",
        "for i, doc in enumerate(newsgroupsdocs):\n",
        "    frequency = doc.lower().split().count(query)\n",
        "    if frequency > 1:\n",
        "        relevant_ids.append(i)\n",
        "\n",
        "print(f\"Documentos relevantes: {relevant_ids[:10]} ... (total: {len(relevant_ids)})\")\n",
        "\n",
        "def precision_at_k(ordered_list, relevant, k):\n",
        "    top_k = ordered_list[:k]\n",
        "    hits = [1 if doc_id in relevant else 0 for doc_id in top_k]\n",
        "    return sum(hits) / k\n",
        "\n",
        "def average_precision(ordered_list, relevant):\n",
        "    hits = 0\n",
        "    precision_sum = 0\n",
        "    for i, doc_id in enumerate(ordered_list):\n",
        "        if doc_id in relevant:\n",
        "            hits += 1\n",
        "            precision_sum += hits / (i + 1)\n",
        "    if hits == 0:\n",
        "        return 0\n",
        "    return precision_sum / hits\n",
        "\n",
        "# Obtener listas ordenadas de IDs según los modelos\n",
        "ordered_ids_tfidf = ranking['DocID'].tolist()\n",
        "ordered_df = df.sort_values(by='ScoresBM25', ascending=False).reset_index()\n",
        "ordered_ids_bm25 = ordered_df['index'].tolist()\n",
        "\n",
        "# Precision@3\n",
        "prec_3_tfidf = precision_at_k(ordered_ids_tfidf, relevant_ids, 3)\n",
        "prec_3_bm25  = precision_at_k(ordered_ids_bm25, relevant_ids, 3)\n",
        "\n",
        "# MAP\n",
        "map_tfidf = average_precision(ordered_ids_tfidf, relevant_ids)\n",
        "map_bm25  = average_precision(ordered_ids_bm25, relevant_ids)\n",
        "\n",
        "print(f\"Precisión@3 - TF-IDF: {prec_3_tfidf:.3f}\")\n",
        "print(f\"Precisión@3 - BM25:   {prec_3_bm25:.3f}\")\n",
        "print(f\"MAP - TF-IDF: {map_tfidf:.3f}\")\n",
        "print(f\"MAP - BM25:   {map_bm25:.3f}\")\n",
        "\n",
        "best_p3 = \"BM25\" if prec_3_bm25 > prec_3_tfidf else \"TF-IDF\"\n",
        "best_map = \"BM25\" if map_bm25 > map_tfidf else \"TF-IDF\"\n",
        "\n",
        "print(f\"\\nEl modelo con mejor Precisión@3 es: {best_p3}\")\n",
        "print(f\"El modelo con mejor MAP es: {best_map}\")\n"
      ]
    }
  ],
  "metadata": {
    "accelerator": "GPU",
    "colab": {
      "gpuType": "T4",
      "provenance": []
    },
    "kernelspec": {
      "display_name": "Python 3",
      "name": "python3"
    },
    "language_info": {
      "codemirror_mode": {
        "name": "ipython",
        "version": 3
      },
      "file_extension": ".py",
      "mimetype": "text/x-python",
      "name": "python",
      "nbconvert_exporter": "python",
      "pygments_lexer": "ipython3",
      "version": "3.12.4"
    }
  },
  "nbformat": 4,
  "nbformat_minor": 5
}
