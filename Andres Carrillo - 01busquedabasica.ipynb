{
  "cells": [
    {
      "cell_type": "markdown",
      "source": [
        "#Nombre: WLADIMIR ANDRES CARRILLO MOSCOSO\n",
        "#Materia: Recuperación de Información GR1CC"
      ],
      "metadata": {
        "id": "C7iL6b4PTFNA"
      },
      "id": "C7iL6b4PTFNA"
    },
    {
      "metadata": {
        "id": "20980d198e5f991c"
      },
      "cell_type": "markdown",
      "source": [
        "# Ejercicio 1: Introducción a Recuperación de Información\n",
        "\n",
        "## Objetivo de la práctica\n",
        "- Entender el problema de **buscar información** en colecciones de texto.\n",
        "- Comprender por qué se necesita un **índice invertido** en recuperación de información.\n",
        "- Programar una primera solución manual y luego optimizarla con un índice.\n",
        "- Evaluar la mejora en tiempos de búsqueda cuando usamos estructuras adecuadas."
      ],
      "id": "20980d198e5f991c"
    },
    {
      "metadata": {
        "id": "175182ac2f1f542c"
      },
      "cell_type": "markdown",
      "source": [
        "## Parte 1: Búsqueda lineal en documentos\n",
        "\n",
        "### Actividad\n",
        "1. Se te proporcionará un conjunto de documentos de texto.\n",
        "2. Escribe una función que:\n",
        "   - Lea todos los documentos.\n",
        "   - Busque una palabra ingresada por el usuario.\n",
        "   - Muestre en qué documentos aparece la palabra."
      ],
      "id": "175182ac2f1f542c"
    },
    {
      "cell_type": "code",
      "execution_count": 2,
      "id": "initial_id",
      "metadata": {
        "collapsed": true,
        "colab": {
          "base_uri": "https://localhost:8080/"
        },
        "id": "initial_id",
        "outputId": "9248f515-b722-446b-efca-a842c67969cb"
      },
      "outputs": [
        {
          "output_type": "stream",
          "name": "stdout",
          "text": [
            "Palabra a buscar: Ecuador\n",
            "Buscando en el archivo: 01_corpus_turismo_500.txt\n",
            "Palabra encontrada en el documento 5: Ecuador es un país megadiverso, ideal para el turismo ecológico\n",
            "Palabra encontrada en el documento 22: Ecuador es un país megadiverso, ideal para el turismo ecológico Perfecto para avistamiento de aves.\n",
            "Palabra encontrada en el documento 30: Ecuador es un país megadiverso, ideal para el turismo ecológico Ideal para el próximo feriado.\n",
            "Palabra encontrada en el documento 37: Ecuador es un país megadiverso, ideal para el turismo ecológico Perfecto para canopy.\n",
            "Palabra encontrada en el documento 41: Ecuador es un país megadiverso, ideal para el turismo ecológico Un lugar increíble para visitar.\n",
            "Palabra encontrada en el documento 45: Ecuador es un país megadiverso, ideal para el turismo ecológico Perfecto para rafting.\n",
            "Palabra encontrada en el documento 76: Ecuador es un país megadiverso, ideal para el turismo ecológico Perfecto para senderismo.\n",
            "Palabra encontrada en el documento 109: Ecuador es un país megadiverso, ideal para el turismo ecológico Ideal para el próximo feriado.\n",
            "Palabra encontrada en el documento 110: Ecuador es un país megadiverso, ideal para el turismo ecológico Ideal para el próximo feriado.\n",
            "Palabra encontrada en el documento 122: Ecuador es un país megadiverso, ideal para el turismo ecológico Una experiencia inolvidable.\n",
            "Palabra encontrada en el documento 127: Ecuador es un país megadiverso, ideal para el turismo ecológico\n",
            "Palabra encontrada en el documento 130: Ecuador es un país megadiverso, ideal para el turismo ecológico Ideal para el próximo feriado.\n",
            "Palabra encontrada en el documento 156: Ecuador es un país megadiverso, ideal para el turismo ecológico Un lugar increíble para visitar.\n",
            "Palabra encontrada en el documento 163: Ecuador es un país megadiverso, ideal para el turismo ecológico\n",
            "Palabra encontrada en el documento 168: Ecuador es un país megadiverso, ideal para el turismo ecológico Ideal para el próximo feriado.\n",
            "Palabra encontrada en el documento 200: Ecuador es un país megadiverso, ideal para el turismo ecológico Ideal para el próximo feriado.\n",
            "Palabra encontrada en el documento 225: Ecuador es un país megadiverso, ideal para el turismo ecológico Ideal para el próximo feriado.\n",
            "Palabra encontrada en el documento 231: Ecuador es un país megadiverso, ideal para el turismo ecológico Un lugar famoso para visitar.\n",
            "Palabra encontrada en el documento 246: Ecuador es un país megadiverso, ideal para el turismo ecológico\n",
            "Palabra encontrada en el documento 254: Ecuador es un país megadiverso, ideal para el turismo ecológico\n",
            "Palabra encontrada en el documento 258: Ecuador es un país megadiverso, ideal para el turismo ecológico Una experiencia inolvidable.\n",
            "Palabra encontrada en el documento 280: Ecuador es un país megadiverso, ideal para el turismo ecológico Ideal para el próximo feriado.\n",
            "Palabra encontrada en el documento 307: Ecuador es un país megadiverso, ideal para el turismo ecológico Un lugar espectacular para visitar.\n",
            "Palabra encontrada en el documento 319: Ecuador es un país megadiverso, ideal para el turismo ecológico\n",
            "Palabra encontrada en el documento 324: Ecuador es un país megadiverso, ideal para el turismo ecológico Perfecto para canopy.\n",
            "Palabra encontrada en el documento 333: Ecuador es un país megadiverso, ideal para el turismo ecológico Ideal para el próximo feriado.\n",
            "Palabra encontrada en el documento 352: Ecuador es un país megadiverso, ideal para el turismo ecológico\n",
            "Palabra encontrada en el documento 371: Ecuador es un país megadiverso, ideal para el turismo ecológico Un lugar espectacular para visitar.\n",
            "Palabra encontrada en el documento 379: Ecuador es un país megadiverso, ideal para el turismo ecológico\n",
            "Palabra encontrada en el documento 383: Ecuador es un país megadiverso, ideal para el turismo ecológico Ideal para el próximo feriado.\n",
            "Palabra encontrada en el documento 386: Ecuador es un país megadiverso, ideal para el turismo ecológico\n",
            "Palabra encontrada en el documento 442: Ecuador es un país megadiverso, ideal para el turismo ecológico\n",
            "Palabra encontrada en el documento 459: Ecuador es un país megadiverso, ideal para el turismo ecológico Ideal para el próximo feriado.\n",
            "Palabra encontrada en el documento 486: Ecuador es un país megadiverso, ideal para el turismo ecológico Perfecto para senderismo.\n",
            "Palabra encontrada en el documento 491: Ecuador es un país megadiverso, ideal para el turismo ecológico\n",
            "Palabra encontrada en el documento 492: Ecuador es un país megadiverso, ideal para el turismo ecológico Ideal para el próximo feriado.\n",
            "Buscando en el archivo: 01_corpus_turismo.txt\n",
            "Palabra encontrada en el documento 1: Ecuador es un país megadiverso, con playas, montañas y selvas ideales para el turismo ecológico.\n"
          ]
        }
      ],
      "source": [
        "import os\n",
        "\n",
        "def buscar_palabra(query):\n",
        "    directorio = \"/content/sample_data\"\n",
        "    archivos_txt = [archivo for archivo in os.listdir(directorio) if archivo.endswith(\".txt\")]\n",
        "\n",
        "    for archivo_txt in archivos_txt:\n",
        "        ruta = os.path.join(directorio, archivo_txt)\n",
        "        print(f\"Buscando en el archivo: {archivo_txt}\")\n",
        "\n",
        "        query_encontrado = False\n",
        "\n",
        "        with open(ruta, \"r\", encoding=\"utf-8\") as corpus:\n",
        "            docs = corpus.readlines()\n",
        "\n",
        "            for idx_doc, doc in enumerate(docs, start=1):\n",
        "                if query in doc:\n",
        "                    print(f\"Palabra encontrada en el documento {idx_doc}: {doc.strip()}\")\n",
        "                    query_encontrado = True\n",
        "            if not query_encontrado:\n",
        "                print(\"Palabra no encontrada en el documento\")\n",
        "\n",
        "\n",
        "query = input('Palabra a buscar: ')\n",
        "buscar_palabra(query)\n"
      ]
    },
    {
      "metadata": {
        "id": "57c9797b0bf7f4bb"
      },
      "cell_type": "markdown",
      "source": [
        "## Parte 2: Construcción de un índice invertido\n",
        "\n",
        "### Actividad\n",
        "1. Escribe un programa que:\n",
        "   - Recorra todos los documentos.\n",
        "   - Construya un **índice invertido**, es decir, un diccionario donde:\n",
        "     - Cada palabra clave apunta a una lista de documentos donde aparece.\n",
        "\n",
        "2. Escribe una nueva función de búsqueda que:\n",
        "   - Consulte directamente el índice para encontrar los documentos relevantes.\n",
        "   - Sea mucho más rápida que la búsqueda lineal."
      ],
      "id": "57c9797b0bf7f4bb"
    },
    {
      "metadata": {
        "colab": {
          "base_uri": "https://localhost:8080/"
        },
        "id": "34e7a4522b06d969",
        "outputId": "7bcd2667-ba9d-4c0d-a042-b9acae8cb9dc"
      },
      "cell_type": "code",
      "outputs": [
        {
          "output_type": "stream",
          "name": "stdout",
          "text": [
            "Palabra a buscar: Ecuador\n",
            "La palabra 'Ecuador' se encontró en:\n",
            " - Corpus: 01_corpus_turismo_500.txt, Documento: 168\n",
            " - Corpus: 01_corpus_turismo_500.txt, Documento: 122\n",
            " - Corpus: 01_corpus_turismo_500.txt, Documento: 491\n",
            " - Corpus: 01_corpus_turismo.txt, Documento: 1\n",
            " - Corpus: 01_corpus_turismo_500.txt, Documento: 76\n",
            " - Corpus: 01_corpus_turismo_500.txt, Documento: 442\n",
            " - Corpus: 01_corpus_turismo_500.txt, Documento: 30\n",
            " - Corpus: 01_corpus_turismo_500.txt, Documento: 280\n",
            " - Corpus: 01_corpus_turismo_500.txt, Documento: 45\n",
            " - Corpus: 01_corpus_turismo_500.txt, Documento: 225\n",
            " - Corpus: 01_corpus_turismo_500.txt, Documento: 231\n",
            " - Corpus: 01_corpus_turismo_500.txt, Documento: 109\n",
            " - Corpus: 01_corpus_turismo_500.txt, Documento: 127\n",
            " - Corpus: 01_corpus_turismo_500.txt, Documento: 246\n",
            " - Corpus: 01_corpus_turismo_500.txt, Documento: 5\n",
            " - Corpus: 01_corpus_turismo_500.txt, Documento: 307\n",
            " - Corpus: 01_corpus_turismo_500.txt, Documento: 130\n",
            " - Corpus: 01_corpus_turismo_500.txt, Documento: 371\n",
            " - Corpus: 01_corpus_turismo_500.txt, Documento: 200\n",
            " - Corpus: 01_corpus_turismo_500.txt, Documento: 319\n",
            " - Corpus: 01_corpus_turismo_500.txt, Documento: 258\n",
            " - Corpus: 01_corpus_turismo_500.txt, Documento: 383\n",
            " - Corpus: 01_corpus_turismo_500.txt, Documento: 386\n",
            " - Corpus: 01_corpus_turismo_500.txt, Documento: 41\n",
            " - Corpus: 01_corpus_turismo_500.txt, Documento: 459\n",
            " - Corpus: 01_corpus_turismo_500.txt, Documento: 163\n",
            " - Corpus: 01_corpus_turismo_500.txt, Documento: 352\n",
            " - Corpus: 01_corpus_turismo_500.txt, Documento: 486\n",
            " - Corpus: 01_corpus_turismo_500.txt, Documento: 492\n",
            " - Corpus: 01_corpus_turismo_500.txt, Documento: 254\n",
            " - Corpus: 01_corpus_turismo_500.txt, Documento: 379\n",
            " - Corpus: 01_corpus_turismo_500.txt, Documento: 324\n",
            " - Corpus: 01_corpus_turismo_500.txt, Documento: 22\n",
            " - Corpus: 01_corpus_turismo_500.txt, Documento: 333\n",
            " - Corpus: 01_corpus_turismo_500.txt, Documento: 37\n",
            " - Corpus: 01_corpus_turismo_500.txt, Documento: 156\n",
            " - Corpus: 01_corpus_turismo_500.txt, Documento: 110\n"
          ]
        }
      ],
      "execution_count": 16,
      "source": [
        "def crearIDX_INV(directorio):\n",
        "    palabras_recorridas = {}\n",
        "\n",
        "    archivos_txt = [archivo for archivo in os.listdir(directorio) if archivo.endswith(\".txt\")]\n",
        "\n",
        "    for corpus in archivos_txt:\n",
        "        ruta = os.path.join(directorio, corpus)\n",
        "        with open(ruta, \"r\", encoding=\"utf-8\") as archivo:\n",
        "            docs = archivo.readlines()\n",
        "\n",
        "            for idx_doc, doc in enumerate(docs, start=1):\n",
        "                palabras = doc.strip().split()\n",
        "\n",
        "                for palabra in palabras:\n",
        "                    if palabra not in palabras_recorridas:\n",
        "                        palabras_recorridas[palabra] = set()\n",
        "                    palabras_recorridas[palabra].add((corpus, idx_doc))\n",
        "\n",
        "    return palabras_recorridas\n",
        "\n",
        "def buscarIDX_INV(query, palabras_recorridas):\n",
        "    if query in palabras_recorridas:\n",
        "        resultados = palabras_recorridas[query]\n",
        "        print(f\"La palabra '{query}' se encontró en:\")\n",
        "        for corpus, doc in resultados:\n",
        "            print(f\" - Corpus: {corpus}, Documento: {doc}\")\n",
        "    else:\n",
        "        print(f\"La palabra '{query}' no se encontró en ningún documento\")\n",
        "\n",
        "directorio = \"/content/sample_data\"\n",
        "palabras_recorridas = crearIDX_INV(directorio)\n",
        "\n",
        "query = input('Palabra a buscar: ')\n",
        "buscarIDX_INV(query, palabras_recorridas)\n"
      ],
      "id": "34e7a4522b06d969"
    },
    {
      "metadata": {
        "id": "3f311d0944a2f98d"
      },
      "cell_type": "markdown",
      "source": [
        "## Parte 3: Evaluación de tiempos de búsqueda\n",
        "### Actividad\n",
        "\n",
        "1. Realiza la búsqueda de varias palabras usando:\n",
        "      -  Corpus pequeño: 16 documentos (turismo en Ecuador).\n",
        "      -  Corpus grande: 500 documentos (versión ampliada).\n",
        "2. Mide el tiempo de ejecución:\n",
        "      -  Para búsqueda lineal.\n",
        "      -  Para búsqueda usando índice invertido.\n",
        "      -  Grafica o presenta los resultados en una tabla comparativa.\n",
        "\n",
        "### Ejemplo de palabras para buscar\n",
        "- quito\n",
        "- montañita\n",
        "- feriado\n",
        "- playas\n",
        "- aventura\n",
        "- galápagos"
      ],
      "id": "3f311d0944a2f98d"
    },
    {
      "metadata": {
        "id": "15211fcaadfeb175",
        "colab": {
          "base_uri": "https://localhost:8080/"
        },
        "outputId": "d8f635f5-439a-4171-d9cb-9d1484ead254"
      },
      "cell_type": "code",
      "outputs": [
        {
          "output_type": "stream",
          "name": "stdout",
          "text": [
            "Comparativa de tiempos de búsqueda:\n",
            "Palabra         Tiempo Lineal (s)    Tiempo Índice Invertido (s)   \n",
            "-----------------------------------------------------------------\n",
            "quito           0.000407             0.000001                      \n",
            "montañita       0.000302             0.000001                      \n",
            "feriado         0.000213             0.000001                      \n",
            "playas          0.000173             0.000001                      \n",
            "aventura        0.000154             0.000002                      \n",
            "galápagos       0.000234             0.000001                      \n"
          ]
        }
      ],
      "execution_count": 15,
      "source": [
        "import os\n",
        "import time\n",
        "\n",
        "def buscar_palabra(query, directorio):\n",
        "    archivos_txt = [archivo for archivo in os.listdir(directorio) if archivo.endswith(\".txt\")]\n",
        "    for archivo_txt in archivos_txt:\n",
        "        ruta = os.path.join(directorio, archivo_txt)\n",
        "        with open(ruta, \"r\", encoding=\"utf-8\") as corpus:\n",
        "            docs = corpus.readlines()\n",
        "            for idx_doc, doc in enumerate(docs, start=1):\n",
        "                if query in doc:\n",
        "                    return True\n",
        "    return False\n",
        "\n",
        "def crearIDX_INV(directorio):\n",
        "    palabras_recorridas = {}\n",
        "    archivos_txt = [archivo for archivo in os.listdir(directorio) if archivo.endswith(\".txt\")]\n",
        "    for corpus in archivos_txt:\n",
        "        ruta = os.path.join(directorio, corpus)\n",
        "        with open(ruta, \"r\", encoding=\"utf-8\") as archivo:\n",
        "            docs = archivo.readlines()\n",
        "            for idx_doc, doc in enumerate(docs, start=1):\n",
        "                palabras = doc.strip().split()\n",
        "                for palabra in palabras:\n",
        "                    if palabra not in palabras_recorridas:\n",
        "                        palabras_recorridas[palabra] = set()\n",
        "                    palabras_recorridas[palabra].add((corpus, idx_doc))\n",
        "    return palabras_recorridas\n",
        "\n",
        "def buscarIDX_INV(query, palabras_recorridas):\n",
        "    return query in palabras_recorridas\n",
        "\n",
        "\n",
        "directorio = \"/content/sample_data\"\n",
        "palabras_a_buscar = ['quito', 'montañita', 'feriado', 'playas', 'aventura', 'galápagos']\n",
        "palabras_recorridas = crearIDX_INV(directorio)\n",
        "resultados = []\n",
        "\n",
        "for palabra in palabras_a_buscar:\n",
        "\n",
        "    inicio_lineal = time.time()\n",
        "    encontrado_lineal = buscar_palabra(palabra, directorio)\n",
        "    fin_lineal = time.time()\n",
        "    tiempo_lineal = fin_lineal - inicio_lineal\n",
        "\n",
        "    inicio_idx = time.time()\n",
        "    encontrado_idx = buscarIDX_INV(palabra, palabras_recorridas)\n",
        "    fin_idx = time.time()\n",
        "    tiempo_idx = fin_idx - inicio_idx\n",
        "\n",
        "    resultados.append((palabra, tiempo_lineal, tiempo_idx))\n",
        "\n",
        "print(\"Comparativa de tiempos de búsqueda:\")\n",
        "print(f\"{'Palabra':<15} {'Tiempo Lineal (s)':<20} {'Tiempo Índice Invertido (s)':<30}\")\n",
        "print(\"-\" * 65)\n",
        "for palabra, tiempo_lineal, tiempo_idx in resultados:\n",
        "    print(f\"{palabra:<15} {tiempo_lineal:<20.6f} {tiempo_idx:<30.6f}\")\n"
      ],
      "id": "15211fcaadfeb175"
    },
    {
      "metadata": {
        "id": "93a841af5ef64dd7"
      },
      "cell_type": "markdown",
      "source": [
        "## Parte 4:\n",
        "### Actividad\n",
        "1. Modifica el índice para que ignore mayúsculas/minúsculas (por ejemplo, \"Playa\" y \"playa\" deben considerarse iguales).\n",
        "2. Permite consultas de múltiples términos (ejemplo: buscar documentos que contengan \"playa\" y \"turismo\").\n",
        "3. Calcula el _speedup_"
      ],
      "id": "93a841af5ef64dd7"
    },
    {
      "metadata": {
        "id": "66741cbd7ba00bb6",
        "colab": {
          "base_uri": "https://localhost:8080/"
        },
        "outputId": "14233960-e184-44b1-fa82-ab4f4852ff6d"
      },
      "cell_type": "code",
      "outputs": [
        {
          "output_type": "stream",
          "name": "stdout",
          "text": [
            "Comparativa de tiempos de búsqueda y speedup:\n",
            "Palabra              Tiempo Lineal (s)    Tiempo Índice Invertido (s)    Speedup   \n",
            "-------------------------------------------------------------------------------------\n",
            "quito                0.000527             0.000006                       92.08     \n",
            "montañita            0.000342             0.000003                       102.57    \n",
            "Feriado              0.000270             0.000003                       80.86     \n",
            "playas               0.000340             0.000005                       62.04     \n",
            "Aventura             0.000355             0.000004                       99.40     \n",
            "galápagos            0.000275             0.000003                       82.50     \n",
            "Playa turismo el     0.001957             0.000003                       586.36    \n"
          ]
        }
      ],
      "execution_count": 17,
      "source": [
        "import os\n",
        "import time\n",
        "\n",
        "def buscar_palabra(query, directorio):\n",
        "    archivos_txt = [archivo for archivo in os.listdir(directorio) if archivo.endswith(\".txt\")]\n",
        "    for archivo_txt in archivos_txt:\n",
        "        ruta = os.path.join(directorio, archivo_txt)\n",
        "        with open(ruta, \"r\", encoding=\"utf-8\") as corpus:\n",
        "            docs = corpus.readlines()\n",
        "            for idx_doc, doc in enumerate(docs, start=1):\n",
        "                if all(q.lower() in doc.lower() for q in query.split()):\n",
        "                    return True\n",
        "    return False\n",
        "\n",
        "def crearIDX_INV(directorio):\n",
        "    palabras_recorridas = {}\n",
        "    archivos_txt = [archivo for archivo in os.listdir(directorio) if archivo.endswith(\".txt\")]\n",
        "    for corpus in archivos_txt:\n",
        "        ruta = os.path.join(directorio, corpus)\n",
        "        with open(ruta, \"r\", encoding=\"utf-8\") as archivo:\n",
        "            docs = archivo.readlines()\n",
        "            for idx_doc, doc in enumerate(docs, start=1):\n",
        "                palabras = doc.strip().split()\n",
        "                for palabra in palabras:\n",
        "                    palabra = palabra.lower()\n",
        "                    if palabra not in palabras_recorridas:\n",
        "                        palabras_recorridas[palabra] = set()\n",
        "                    palabras_recorridas[palabra].add((corpus, idx_doc))\n",
        "    return palabras_recorridas\n",
        "\n",
        "def buscarIDX_INV(query, palabras_recorridas):\n",
        "    palabras = query.lower().split()\n",
        "    resultados = None\n",
        "\n",
        "    for palabra in palabras:\n",
        "        if palabra not in palabras_recorridas:\n",
        "            return False\n",
        "        documentos = palabras_recorridas[palabra]\n",
        "        if resultados is None:\n",
        "            resultados = documentos\n",
        "        else:\n",
        "            resultados = resultados.intersection(documentos)\n",
        "    return bool(resultados)\n",
        "\n",
        "\n",
        "directorio = \"/content/sample_data\"\n",
        "palabras_a_buscar = ['quito', 'montañita', 'Feriado', 'playas', 'Aventura', 'galápagos', 'Playa turismo el']\n",
        "\n",
        "palabras_recorridas = crearIDX_INV(directorio)\n",
        "resultados = []\n",
        "\n",
        "for palabra in palabras_a_buscar:\n",
        "\n",
        "    inicio_lineal = time.time()\n",
        "    encontrado_lineal = buscar_palabra(palabra, directorio)\n",
        "    fin_lineal = time.time()\n",
        "    tiempo_lineal = fin_lineal - inicio_lineal\n",
        "\n",
        "    inicio_idx = time.time()\n",
        "    encontrado_idx = buscarIDX_INV(palabra, palabras_recorridas)\n",
        "    fin_idx = time.time()\n",
        "    tiempo_idx = fin_idx - inicio_idx\n",
        "\n",
        "    if tiempo_idx > 0:\n",
        "        speedup = tiempo_lineal / tiempo_idx\n",
        "    else:\n",
        "        speedup = float('inf')\n",
        "\n",
        "    resultados.append((palabra, tiempo_lineal, tiempo_idx, speedup))\n",
        "\n",
        "print(\"Comparativa de tiempos de búsqueda y speedup:\")\n",
        "print(f\"{'Palabra':<20} {'Tiempo Lineal (s)':<20} {'Tiempo Índice Invertido (s)':<30} {'Speedup':<10}\")\n",
        "print(\"-\" * 85)\n",
        "for palabra, tiempo_lineal, tiempo_idx, speedup in resultados:\n",
        "    print(f\"{palabra:<20} {tiempo_lineal:<20.6f} {tiempo_idx:<30.6f} {speedup:<10.2f}\")\n"
      ],
      "id": "66741cbd7ba00bb6"
    }
  ],
  "metadata": {
    "kernelspec": {
      "display_name": "Python 3",
      "language": "python",
      "name": "python3"
    },
    "language_info": {
      "codemirror_mode": {
        "name": "ipython",
        "version": 2
      },
      "file_extension": ".py",
      "mimetype": "text/x-python",
      "name": "python",
      "nbconvert_exporter": "python",
      "pygments_lexer": "ipython2",
      "version": "2.7.6"
    },
    "colab": {
      "provenance": []
    }
  },
  "nbformat": 4,
  "nbformat_minor": 5
}